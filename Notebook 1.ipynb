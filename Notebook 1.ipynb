{
 "cells": [
  {
   "cell_type": "markdown",
   "metadata": {},
   "source": [
    "# Applied Calculus with Python\n",
    "\n",
    "In this lecture, we will study how to implement Python in Calculus."
   ]
  },
  {
   "cell_type": "markdown",
   "metadata": {},
   "source": [
    "## 2 Function\n",
    "\n",
    "**Variables**: In most computer languages the name of a variable represents a value of a given type stored in a fixed memory location. The value may be changed, but not the type.\n"
   ]
  },
  {
   "cell_type": "code",
   "execution_count": 1,
   "metadata": {},
   "outputs": [
    {
     "name": "stdout",
     "output_type": "stream",
     "text": [
      "2\n"
     ]
    }
   ],
   "source": [
    "b = 2 # b is integer type\n",
    "print(b) "
   ]
  },
  {
   "cell_type": "markdown",
   "metadata": {},
   "source": [
    "You can test the type of variables as follows. "
   ]
  },
  {
   "cell_type": "code",
   "execution_count": 2,
   "metadata": {},
   "outputs": [
    {
     "data": {
      "text/plain": [
       "int"
      ]
     },
     "execution_count": 2,
     "metadata": {},
     "output_type": "execute_result"
    }
   ],
   "source": [
    "type(b)"
   ]
  },
  {
   "cell_type": "code",
   "execution_count": 3,
   "metadata": {},
   "outputs": [
    {
     "name": "stdout",
     "output_type": "stream",
     "text": [
      "2.0\n"
     ]
    }
   ],
   "source": [
    "a = 2.0 # a is float type\n",
    "print(a)"
   ]
  },
  {
   "cell_type": "code",
   "execution_count": 4,
   "metadata": {},
   "outputs": [
    {
     "data": {
      "text/plain": [
       "float"
      ]
     },
     "execution_count": 4,
     "metadata": {},
     "output_type": "execute_result"
    }
   ],
   "source": [
    "type(a)"
   ]
  },
  {
   "cell_type": "markdown",
   "metadata": {},
   "source": [
    "**Arithmetic Operators**: You can perform the following operations in Python.\n",
    "\n",
    "| Operators       | Meaning   |\n",
    "| :------------- | :----------:| \n",
    "| $+$|Addition|\n",
    "| $-$|Subtraction|\n",
    "| $*$| Multiplication|\n",
    "| $**$| Exponentiation\n",
    "| $\\%$| Modular division|"
   ]
  },
  {
   "cell_type": "code",
   "execution_count": 6,
   "metadata": {},
   "outputs": [
    {
     "name": "stdout",
     "output_type": "stream",
     "text": [
      "c = 3\n",
      "d = 2\n",
      "e = 1\n",
      "f = 0\n"
     ]
    }
   ],
   "source": [
    "a = 1\n",
    "b = 2\n",
    "c = a + b\n",
    "d = a*b\n",
    "e = a**b\n",
    "f = b % 2\n",
    "print('c =', c)\n",
    "print('d =', d)\n",
    "print('e =', e)\n",
    "print('f =', f)"
   ]
  },
  {
   "cell_type": "markdown",
   "metadata": {},
   "source": [
    "**Strings**: A *string* is a sequence of characters enclosed in single or double quotes. Strings are concatenated with the plus (+) operator, whereas slicing (:) is used to extract a portion of the string. "
   ]
  },
  {
   "cell_type": "code",
   "execution_count": 1,
   "metadata": {},
   "outputs": [
    {
     "name": "stdout",
     "output_type": "stream",
     "text": [
      "Hello, I am Prof. Tan Cao from AMS Department in SUNY Korea.\n",
      "Nice to meet you all!\n"
     ]
    }
   ],
   "source": [
    "print('Hello, I am Prof. Tan Cao from AMS Department in SUNY Korea.')\n",
    "print('Nice to meet you all!')"
   ]
  },
  {
   "cell_type": "markdown",
   "metadata": {},
   "source": [
    "Now it is your turn! Print out a welcome message introducing yourself."
   ]
  },
  {
   "cell_type": "code",
   "execution_count": 84,
   "metadata": {},
   "outputs": [
    {
     "name": "stdout",
     "output_type": "stream",
     "text": [
      "What is your name? Tan\n",
      "Hello Tan\n",
      "Could you please introduce yourself?\n",
      "...\n"
     ]
    }
   ],
   "source": [
    "name = input('What is your name? ')\n",
    "\n",
    "print('Hello ' + name) \n",
    "print('Could you please introduce yourself?')\n",
    "# Enter your code here\n",
    "print('...') "
   ]
  },
  {
   "cell_type": "code",
   "execution_count": 13,
   "metadata": {},
   "outputs": [
    {
     "name": "stdout",
     "output_type": "stream",
     "text": [
      "CaoHoangTan\n"
     ]
    }
   ],
   "source": [
    "fName = 'Tan'\n",
    "mName = 'Hoang'\n",
    "lName = 'Cao'\n",
    "name = lName + mName + fName\n",
    "print(name)"
   ]
  },
  {
   "cell_type": "code",
   "execution_count": 15,
   "metadata": {},
   "outputs": [
    {
     "name": "stdout",
     "output_type": "stream",
     "text": [
      "Cao Hoang Tan\n"
     ]
    }
   ],
   "source": [
    "name =  lName + ' ' + mName + ' ' + fName # Concatenation\n",
    "print(name)"
   ]
  },
  {
   "cell_type": "markdown",
   "metadata": {},
   "source": [
    "We can compute the length of a string, slice it, and split it into its component parts as follows. "
   ]
  },
  {
   "cell_type": "code",
   "execution_count": 20,
   "metadata": {},
   "outputs": [
    {
     "data": {
      "text/plain": [
       "13"
      ]
     },
     "execution_count": 20,
     "metadata": {},
     "output_type": "execute_result"
    }
   ],
   "source": [
    "len(name) "
   ]
  },
  {
   "cell_type": "code",
   "execution_count": 19,
   "metadata": {},
   "outputs": [
    {
     "name": "stdout",
     "output_type": "stream",
     "text": [
      "Cao\n"
     ]
    }
   ],
   "source": [
    "print(name[0:3]) # Slicing"
   ]
  },
  {
   "cell_type": "code",
   "execution_count": 21,
   "metadata": {},
   "outputs": [
    {
     "name": "stdout",
     "output_type": "stream",
     "text": [
      "['Cao', 'Hoang', 'Tan']\n"
     ]
    }
   ],
   "source": [
    "print(name.split())"
   ]
  },
  {
   "cell_type": "code",
   "execution_count": null,
   "metadata": {},
   "outputs": [],
   "source": [
    "# Your turn. Please enter your information here.\n",
    "fName = '...'\n",
    "mName = '...'\n",
    "lName = '...'\n",
    "name =  lName + ' ' + mName + ' ' + fName\n",
    "print(name)"
   ]
  },
  {
   "cell_type": "code",
   "execution_count": 16,
   "metadata": {},
   "outputs": [
    {
     "data": {
      "text/plain": [
       "str"
      ]
     },
     "execution_count": 16,
     "metadata": {},
     "output_type": "execute_result"
    }
   ],
   "source": [
    "type(name)"
   ]
  },
  {
   "cell_type": "markdown",
   "metadata": {},
   "source": [
    "We next print out the following statements:\n",
    "* Height depends on age.\n",
    "* Temperature depends on date. \n",
    "* Cost of mailing a package depends on weight. \n"
   ]
  },
  {
   "cell_type": "code",
   "execution_count": 1,
   "metadata": {},
   "outputs": [
    {
     "name": "stdout",
     "output_type": "stream",
     "text": [
      "...\n"
     ]
    }
   ],
   "source": [
    "# Enter your code here\n",
    "print('...')"
   ]
  },
  {
   "cell_type": "markdown",
   "metadata": {},
   "source": [
    "Now replace \"depends on\" by \"is a function of\" in the above statements."
   ]
  },
  {
   "cell_type": "code",
   "execution_count": 2,
   "metadata": {},
   "outputs": [
    {
     "name": "stdout",
     "output_type": "stream",
     "text": [
      "...\n"
     ]
    }
   ],
   "source": [
    "# Enter your code here\n",
    "print('...')"
   ]
  },
  {
   "cell_type": "markdown",
   "metadata": {},
   "source": [
    "Note that a string is an immutable object—its individual characters cannot be modified with an assignment statement, and it has a fixed length."
   ]
  },
  {
   "cell_type": "markdown",
   "metadata": {},
   "source": [
    "**Tuples**: A *tuple* is a sequence of *arbitrary objects* separated by commas and enclosed in parentheses. If the tuple contains a single object, a final comma is required; for example, x = (2,). Tuples support the same operations as strings; they are also immutable.\n",
    "\n",
    "Suppose I want to store my information in a tuple rec."
   ]
  },
  {
   "cell_type": "code",
   "execution_count": 22,
   "metadata": {},
   "outputs": [
    {
     "name": "stdout",
     "output_type": "stream",
     "text": [
      "Tan\n"
     ]
    }
   ],
   "source": [
    "rec = ('Tan', 'Cao', (11, 28, 1986)) # This is a tuple\n",
    "fName, lName, bDate = rec # Unpacking \n",
    "print(fName)"
   ]
  },
  {
   "cell_type": "code",
   "execution_count": 23,
   "metadata": {},
   "outputs": [
    {
     "name": "stdout",
     "output_type": "stream",
     "text": [
      "(11, 28, 1986)\n"
     ]
    }
   ],
   "source": [
    "print(bDate)"
   ]
  },
  {
   "cell_type": "code",
   "execution_count": 25,
   "metadata": {},
   "outputs": [
    {
     "name": "stdout",
     "output_type": "stream",
     "text": [
      "1986\n"
     ]
    }
   ],
   "source": [
    "bYear = bDate[2]\n",
    "print(bYear)"
   ]
  },
  {
   "cell_type": "code",
   "execution_count": 27,
   "metadata": {},
   "outputs": [
    {
     "data": {
      "text/plain": [
       "tuple"
      ]
     },
     "execution_count": 27,
     "metadata": {},
     "output_type": "execute_result"
    }
   ],
   "source": [
    "type(bDate)"
   ]
  },
  {
   "cell_type": "code",
   "execution_count": 30,
   "metadata": {},
   "outputs": [
    {
     "name": "stdout",
     "output_type": "stream",
     "text": [
      "My name is Tan Cao\n",
      "(11, 28, 1986) is my birthday.\n"
     ]
    }
   ],
   "source": [
    "name = fName + ' ' + lName\n",
    "print('My name is', name)\n",
    "print(bDate, 'is my birthday.')"
   ]
  },
  {
   "cell_type": "code",
   "execution_count": 31,
   "metadata": {},
   "outputs": [],
   "source": [
    "# Your turn\n",
    "# Enter your code here\n",
    "rec = (..., ..., ...) # This is a tuple\n",
    "fName, lName, bDate = rec # Unpacking "
   ]
  },
  {
   "cell_type": "markdown",
   "metadata": {},
   "source": [
    "**Lists**: \n",
    "A *list* is similar to a tuple, but it is *mutable*, so that its elements and length can be changed. A list is identified by enclosing it in brackets. "
   ]
  },
  {
   "cell_type": "code",
   "execution_count": 32,
   "metadata": {},
   "outputs": [
    {
     "name": "stdout",
     "output_type": "stream",
     "text": [
      "[1, 2, 3, 4]\n"
     ]
    }
   ],
   "source": [
    "a = [1, 2, 3] # Create a list \n",
    "a.append(4)   # Append 4 to the list\n",
    "print(a)"
   ]
  },
  {
   "cell_type": "code",
   "execution_count": 35,
   "metadata": {},
   "outputs": [
    {
     "name": "stdout",
     "output_type": "stream",
     "text": [
      "[0.1, 0, 1, 2, 3, 4]\n"
     ]
    }
   ],
   "source": [
    "a.insert(0, 0.1)  # Insert 0.1 in the first position (position 0)\n",
    "print(a)"
   ]
  },
  {
   "cell_type": "code",
   "execution_count": 36,
   "metadata": {},
   "outputs": [
    {
     "data": {
      "text/plain": [
       "6"
      ]
     },
     "execution_count": 36,
     "metadata": {},
     "output_type": "execute_result"
    }
   ],
   "source": [
    "len(a)"
   ]
  },
  {
   "cell_type": "code",
   "execution_count": 38,
   "metadata": {},
   "outputs": [
    {
     "name": "stdout",
     "output_type": "stream",
     "text": [
      "[0.1, 0, 8, 8, 8, 3, 4]\n"
     ]
    }
   ],
   "source": [
    "a[2:4] = [8, 8, 8] # Modify selected elements\n",
    "print(a)"
   ]
  },
  {
   "cell_type": "markdown",
   "metadata": {},
   "source": [
    "If $a$ is a mutable object, such as a list, the assignment statement $b = a$ does not result in a new object $b$, but simply creates a new reference to $a$. Thus any changes made to b will be reflected in a. To create an independent copy of a list $a$, use the statement $c = a[:]$."
   ]
  },
  {
   "cell_type": "code",
   "execution_count": 40,
   "metadata": {},
   "outputs": [
    {
     "name": "stdout",
     "output_type": "stream",
     "text": [
      "[5, 2, 3]\n"
     ]
    }
   ],
   "source": [
    "a = [1, 2, 3]\n",
    "b = a           # 'b' is an alias of 'a'\n",
    "b[0] = 5        # Change 'b'\n",
    "print(a)"
   ]
  },
  {
   "cell_type": "code",
   "execution_count": 41,
   "metadata": {},
   "outputs": [
    {
     "name": "stdout",
     "output_type": "stream",
     "text": [
      "[5, 2, 3]\n"
     ]
    }
   ],
   "source": [
    "c = a[:]  # ’c’ is an independent copy of ’a’\n",
    "c[0] = 1  # Change 'c'\n",
    "print(a)"
   ]
  },
  {
   "cell_type": "markdown",
   "metadata": {},
   "source": [
    "**Matrices** can be represented as nested lists, with each row being an element of the list."
   ]
  },
  {
   "cell_type": "code",
   "execution_count": 43,
   "metadata": {},
   "outputs": [
    {
     "name": "stdout",
     "output_type": "stream",
     "text": [
      "[[1, 2, 3], [4, 5, 6], [7, 8, 9]]\n"
     ]
    }
   ],
   "source": [
    "A = [[1, 2, 3],\n",
    "     [4, 5, 6],\n",
    "     [7, 8, 9]]\n",
    "print(A)"
   ]
  },
  {
   "cell_type": "code",
   "execution_count": 44,
   "metadata": {},
   "outputs": [
    {
     "name": "stdout",
     "output_type": "stream",
     "text": [
      "6\n"
     ]
    }
   ],
   "source": [
    "print(A[1][2])"
   ]
  },
  {
   "cell_type": "markdown",
   "metadata": {},
   "source": [
    "**Comparison Operators**:\n",
    "The comparison (relational) operators return **True** or **False**. These operators are\n",
    "\n",
    "| Operators       | Meaning   |\n",
    "| :------------- | :----------:|\n",
    "| $<$|Less than|\n",
    "| $>$|Greater than|\n",
    "| $<=$|Less than or equal to|\n",
    "| $>=$| Greater than or equal to|\n",
    "| $==$| Equal to\n",
    "| $!=$| Not equal to|"
   ]
  },
  {
   "cell_type": "code",
   "execution_count": 46,
   "metadata": {},
   "outputs": [
    {
     "name": "stdout",
     "output_type": "stream",
     "text": [
      "True\n"
     ]
    }
   ],
   "source": [
    "a = 2\n",
    "b = 1.99\n",
    "c = '2'\n",
    "print(a>b)"
   ]
  },
  {
   "cell_type": "code",
   "execution_count": 47,
   "metadata": {},
   "outputs": [
    {
     "name": "stdout",
     "output_type": "stream",
     "text": [
      "False\n"
     ]
    }
   ],
   "source": [
    "print(a==c)"
   ]
  },
  {
   "cell_type": "code",
   "execution_count": 48,
   "metadata": {},
   "outputs": [
    {
     "name": "stdout",
     "output_type": "stream",
     "text": [
      "True\n"
     ]
    }
   ],
   "source": [
    "print((a>b) and (a !=c)) "
   ]
  },
  {
   "cell_type": "code",
   "execution_count": 49,
   "metadata": {},
   "outputs": [
    {
     "name": "stdout",
     "output_type": "stream",
     "text": [
      "True\n"
     ]
    }
   ],
   "source": [
    "print((a>b) or (a==b))"
   ]
  },
  {
   "cell_type": "markdown",
   "metadata": {},
   "source": [
    "**Functions**: We can make a function $f(x)= x^2+4$ in example 2.6 as follows. "
   ]
  },
  {
   "cell_type": "code",
   "execution_count": 50,
   "metadata": {},
   "outputs": [],
   "source": [
    "f = lambda x: x**2 + 4"
   ]
  },
  {
   "cell_type": "markdown",
   "metadata": {},
   "source": [
    "We can evaluate $f(3),\\; f(-2),$ and $f(\\sqrt5)$."
   ]
  },
  {
   "cell_type": "code",
   "execution_count": 51,
   "metadata": {},
   "outputs": [
    {
     "name": "stdout",
     "output_type": "stream",
     "text": [
      "13\n"
     ]
    }
   ],
   "source": [
    "print(f(3))"
   ]
  },
  {
   "cell_type": "code",
   "execution_count": 52,
   "metadata": {},
   "outputs": [
    {
     "name": "stdout",
     "output_type": "stream",
     "text": [
      "8\n"
     ]
    }
   ],
   "source": [
    "print(f(-2))"
   ]
  },
  {
   "cell_type": "code",
   "execution_count": 57,
   "metadata": {},
   "outputs": [
    {
     "name": "stdout",
     "output_type": "stream",
     "text": [
      "9.0\n"
     ]
    }
   ],
   "source": [
    "import math\n",
    "print(f(sqrt(5)))"
   ]
  },
  {
   "cell_type": "markdown",
   "metadata": {},
   "source": [
    "We can make a function $f$ in another different way as follows."
   ]
  },
  {
   "cell_type": "code",
   "execution_count": 2,
   "metadata": {},
   "outputs": [],
   "source": [
    "def f(x):\n",
    "    return x**2 + 4"
   ]
  },
  {
   "cell_type": "code",
   "execution_count": 3,
   "metadata": {},
   "outputs": [
    {
     "name": "stdout",
     "output_type": "stream",
     "text": [
      "13\n"
     ]
    }
   ],
   "source": [
    "print(f(3))"
   ]
  },
  {
   "cell_type": "markdown",
   "metadata": {},
   "source": [
    "We can graph a function $f$ using the following command."
   ]
  },
  {
   "cell_type": "code",
   "execution_count": 4,
   "metadata": {},
   "outputs": [
    {
     "data": {
      "image/png": "[encoded data removed]",
      "text/plain": [
       "<Figure size 432x288 with 1 Axes>"
      ]
     },
     "metadata": {
      "needs_background": "light"
     },
     "output_type": "display_data"
    },
    {
     "name": "stdout",
     "output_type": "stream",
     "text": [
      "\n",
      "Press return to exit.\n"
     ]
    },
    {
     "data": {
      "text/plain": [
       "''"
      ]
     },
     "execution_count": 4,
     "metadata": {},
     "output_type": "execute_result"
    }
   ],
   "source": [
    "import matplotlib.pyplot as plt\n",
    "from numpy import arange\n",
    "\n",
    "x = arange(-4.2 , 4.2 , 0.2 )  # specify the range of the inputs\n",
    "\n",
    "plt.plot(x, f(x), '-')        # Plot with specified line and marker style\n",
    "plt.xlabel('x')                # Add label to x-axis\n",
    "plt.ylabel('y')                # Add label to y-axis\n",
    "plt.grid(True)\n",
    "plt.savefig('testplot.png', format='png') # Save plot in png format for future use\n",
    "plt.show()                     # Show plot on screen\n",
    "\n",
    "input(\"\\nPress return to exit.\")\n"
   ]
  },
  {
   "cell_type": "markdown",
   "metadata": {},
   "source": [
    "The line and marker styles are specified by the string characters shown in the\n",
    "following table (only some of the available characters are shown).\n",
    "\n",
    "| String      | Line/marker styles   |\n",
    "| :----- | :----------:|\n",
    "| '-' | Solid Line|\n",
    "| '--'| Dashed Line|\n",
    "| '-.'| Dash-dot line|\n",
    "| ':'| Dotted line|\n",
    "| 'o'| Circle marker|\n",
    "| '^'| Triangle marker|\n",
    "| 's'| Square marker |\n",
    "| 'h'| Hexagon marker|\n",
    "| 'x'| x marker|\n",
    "\n",
    "Some of the location (loc) codes for placement of the legend are\n",
    "Running the program produces the following screen:\n",
    "\n",
    "|Number| location|\n",
    "| :----- | :----------:|\n",
    "|0| ”Best” location|\n",
    "|1| Upper right|\n",
    "|2| Upper left|\n",
    "|3| Lower left|\n",
    "|4| Lower right|"
   ]
  },
  {
   "cell_type": "markdown",
   "metadata": {},
   "source": [
    "**Piecewise Functions**: a piecewise function $f$ has the following form.\n",
    "$$\n",
    "f(x) = \\left\\{ \n",
    "\\begin{array}{ll}\n",
    "f_1(x) & \\mbox{if}\\;\\; x \\in D_1 \\\\\n",
    "f_2(x) & \\mbox{if}\\;\\; x \\in D_2 \\\\\n",
    "\\vdots\\\\\n",
    "f_N(x) & \\mbox{if}\\;\\; x \\in D_N \\\\\n",
    "\\end{array}\n",
    "\\right.\n",
    "$$\n",
    "In order to make a piecewise function in Python, we need to use conditional statements:\n",
    "* if\n",
    "* elif\n",
    "* else \n",
    "\n",
    "For example, we want to write a function to tell us the sign of a number."
   ]
  },
  {
   "cell_type": "code",
   "execution_count": 71,
   "metadata": {},
   "outputs": [],
   "source": [
    "def sign(x):        # define a fuunction with parameter(s) \n",
    "    if x < 0:       # Consider 3 cases  \n",
    "        sign = 'negative'\n",
    "    elif x > 0:\n",
    "        sign = 'positive'\n",
    "    else:\n",
    "        sign = 'zero'\n",
    "    return sign"
   ]
  },
  {
   "cell_type": "code",
   "execution_count": 78,
   "metadata": {},
   "outputs": [
    {
     "name": "stdout",
     "output_type": "stream",
     "text": [
      "1.5 is positive\n"
     ]
    }
   ],
   "source": [
    "x = 1.5\n",
    "print( str(x) + ' is ' + sign(x))"
   ]
  },
  {
   "cell_type": "code",
   "execution_count": 80,
   "metadata": {},
   "outputs": [
    {
     "name": "stdout",
     "output_type": "stream",
     "text": [
      "-2 is negative\n"
     ]
    }
   ],
   "source": [
    "x = -2\n",
    "print( str(x) + ' is ' + sign(x))"
   ]
  },
  {
   "cell_type": "code",
   "execution_count": 81,
   "metadata": {},
   "outputs": [
    {
     "name": "stdout",
     "output_type": "stream",
     "text": [
      "Please enter the number x = -3\n",
      "-3.0 is negative\n"
     ]
    }
   ],
   "source": [
    "x = float(input('Please enter the number x = '))\n",
    "print( str(x) + ' is ' + sign(x))"
   ]
  },
  {
   "cell_type": "markdown",
   "metadata": {},
   "source": [
    "You may try to write the function absolute_value() to compute the absoluate value of any number. "
   ]
  },
  {
   "cell_type": "code",
   "execution_count": 1,
   "metadata": {},
   "outputs": [],
   "source": [
    "# Enter your code here\n",
    "..."
   ]
  },
  {
   "cell_type": "markdown",
   "metadata": {},
   "source": [
    "**Example 2.7**: If an astronaut weighs 130 lb on the surface of the earth, then her weight when she is $h$ miles above the earth is given by the function\n",
    "$$\n",
    "w(h) = 130\\left(\\dfrac{3960}{3960+h} \\right)^2\n",
    "$$"
   ]
  },
  {
   "cell_type": "code",
   "execution_count": 3,
   "metadata": {},
   "outputs": [
    {
     "data": {
      "text/plain": [
       "129.34591298720252"
      ]
     },
     "execution_count": 3,
     "metadata": {},
     "output_type": "execute_result"
    }
   ],
   "source": [
    "w = lambda h: 130*(3960/(3960+h))**2\n",
    "\n",
    "w(10)"
   ]
  },
  {
   "cell_type": "code",
   "execution_count": 4,
   "metadata": {},
   "outputs": [
    {
     "data": {
      "text/html": [
       "<div>\n",
       "<style scoped>\n",
       "    .dataframe tbody tr th:only-of-type {\n",
       "        vertical-align: middle;\n",
       "    }\n",
       "\n",
       "    .dataframe tbody tr th {\n",
       "        vertical-align: top;\n",
       "    }\n",
       "\n",
       "    .dataframe thead th {\n",
       "        text-align: right;\n",
       "    }\n",
       "</style>\n",
       "<table border=\"1\" class=\"dataframe\">\n",
       "  <thead>\n",
       "    <tr style=\"text-align: right;\">\n",
       "      <th></th>\n",
       "      <th>Height</th>\n",
       "      <th>Weight</th>\n",
       "    </tr>\n",
       "  </thead>\n",
       "  <tbody>\n",
       "    <tr>\n",
       "      <th>0</th>\n",
       "      <td>0</td>\n",
       "      <td>130.000000</td>\n",
       "    </tr>\n",
       "    <tr>\n",
       "      <th>1</th>\n",
       "      <td>100</td>\n",
       "      <td>123.674925</td>\n",
       "    </tr>\n",
       "    <tr>\n",
       "      <th>2</th>\n",
       "      <td>200</td>\n",
       "      <td>117.800481</td>\n",
       "    </tr>\n",
       "    <tr>\n",
       "      <th>3</th>\n",
       "      <td>300</td>\n",
       "      <td>112.334854</td>\n",
       "    </tr>\n",
       "    <tr>\n",
       "      <th>4</th>\n",
       "      <td>400</td>\n",
       "      <td>107.240973</td>\n",
       "    </tr>\n",
       "    <tr>\n",
       "      <th>5</th>\n",
       "      <td>500</td>\n",
       "      <td>102.485873</td>\n",
       "    </tr>\n",
       "  </tbody>\n",
       "</table>\n",
       "</div>"
      ],
      "text/plain": [
       "   Height      Weight\n",
       "0       0  130.000000\n",
       "1     100  123.674925\n",
       "2     200  117.800481\n",
       "3     300  112.334854\n",
       "4     400  107.240973\n",
       "5     500  102.485873"
      ]
     },
     "execution_count": 4,
     "metadata": {},
     "output_type": "execute_result"
    }
   ],
   "source": [
    "from pandas import DataFrame\n",
    "import numpy as np\n",
    "\n",
    "\n",
    "h = np.arange(0, 600, 100)\n",
    "table = {'Height': h, 'Weight': w(h)}\n",
    "DataFrame(table)"
   ]
  }
 ],
 "metadata": {
  "kernelspec": {
   "display_name": "Python 3",
   "language": "python",
   "name": "python3"
  },
  "language_info": {
   "codemirror_mode": {
    "name": "ipython",
    "version": 3
   },
   "file_extension": ".py",
   "mimetype": "text/x-python",
   "name": "python",
   "nbconvert_exporter": "python",
   "pygments_lexer": "ipython3",
   "version": "3.7.6"
  }
 },
 "nbformat": 4,
 "nbformat_minor": 4
}
