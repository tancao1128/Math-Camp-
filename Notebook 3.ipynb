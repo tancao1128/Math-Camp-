{
 "cells": [
  {
   "cell_type": "markdown",
   "metadata": {},
   "source": [
    "# 4 Limit Concepts"
   ]
  },
  {
   "cell_type": "markdown",
   "metadata": {},
   "source": [
    "## 4.1 The Tangent Problems\n",
    "\n",
    "Example 4.1: Find an equation of the tagent line to the parabolla $y=x^2$ at the point $P(1,1)$. "
   ]
  },
  {
   "cell_type": "code",
   "execution_count": 9,
   "metadata": {},
   "outputs": [
    {
     "data": {
      "image/png": "[encoded data removed]",
      "text/plain": [
       "<Figure size 432x288 with 1 Axes>"
      ]
     },
     "metadata": {
      "needs_background": "light"
     },
     "output_type": "display_data"
    }
   ],
   "source": [
    "import numpy as np\n",
    "import matplotlib.pyplot as plt\n",
    "\n",
    "x = np.linspace(-1, 2, endpoint = True)\n",
    "f = lambda x: x**2    # the parabolla\n",
    "g = lambda x: 2*x - 1 # the tangent line\n",
    "\n",
    "plt.plot(x, f(x), label = \"$y = x^2$\")\n",
    "plt.plot(x, g(x), label = \"$y = 2x-1$\")\n",
    "plt.xlabel('x')\n",
    "plt.ylabel('y')\n",
    "plt.legend()\n",
    "plt.show()\n"
   ]
  },
  {
   "cell_type": "markdown",
   "metadata": {},
   "source": [
    "We next calculate the slope of the secant line $PQ$. "
   ]
  },
  {
   "cell_type": "code",
   "execution_count": 10,
   "metadata": {},
   "outputs": [],
   "source": [
    "x1 = np.array([2, 1.5, 1.1, 1.01, 1.001])\n",
    "x2 = np.array([0, 0.5, 0.9, 0.99, 0.999])\n",
    "slope_PQ = lambda x: (x**2-1)/(x-1)\n"
   ]
  },
  {
   "cell_type": "code",
   "execution_count": 11,
   "metadata": {},
   "outputs": [
    {
     "data": {
      "text/html": [
       "<div>\n",
       "<style scoped>\n",
       "    .dataframe tbody tr th:only-of-type {\n",
       "        vertical-align: middle;\n",
       "    }\n",
       "\n",
       "    .dataframe tbody tr th {\n",
       "        vertical-align: top;\n",
       "    }\n",
       "\n",
       "    .dataframe thead th {\n",
       "        text-align: right;\n",
       "    }\n",
       "</style>\n",
       "<table border=\"1\" class=\"dataframe\">\n",
       "  <thead>\n",
       "    <tr style=\"text-align: right;\">\n",
       "      <th></th>\n",
       "      <th>$x$</th>\n",
       "      <th>$m_{PQ}$</th>\n",
       "    </tr>\n",
       "  </thead>\n",
       "  <tbody>\n",
       "    <tr>\n",
       "      <th>0</th>\n",
       "      <td>2.000</td>\n",
       "      <td>3.000</td>\n",
       "    </tr>\n",
       "    <tr>\n",
       "      <th>1</th>\n",
       "      <td>1.500</td>\n",
       "      <td>2.500</td>\n",
       "    </tr>\n",
       "    <tr>\n",
       "      <th>2</th>\n",
       "      <td>1.100</td>\n",
       "      <td>2.100</td>\n",
       "    </tr>\n",
       "    <tr>\n",
       "      <th>3</th>\n",
       "      <td>1.010</td>\n",
       "      <td>2.010</td>\n",
       "    </tr>\n",
       "    <tr>\n",
       "      <th>4</th>\n",
       "      <td>1.001</td>\n",
       "      <td>2.001</td>\n",
       "    </tr>\n",
       "  </tbody>\n",
       "</table>\n",
       "</div>"
      ],
      "text/plain": [
       "     $x$  $m_{PQ}$\n",
       "0  2.000     3.000\n",
       "1  1.500     2.500\n",
       "2  1.100     2.100\n",
       "3  1.010     2.010\n",
       "4  1.001     2.001"
      ]
     },
     "execution_count": 11,
     "metadata": {},
     "output_type": "execute_result"
    }
   ],
   "source": [
    "from pandas import DataFrame\n",
    "\n",
    "result1 = {'$x$': x1, '$m_{PQ}$': slope_PQ(x1)}\n",
    "DataFrame(result1)"
   ]
  },
  {
   "cell_type": "code",
   "execution_count": 12,
   "metadata": {},
   "outputs": [
    {
     "data": {
      "text/html": [
       "<div>\n",
       "<style scoped>\n",
       "    .dataframe tbody tr th:only-of-type {\n",
       "        vertical-align: middle;\n",
       "    }\n",
       "\n",
       "    .dataframe tbody tr th {\n",
       "        vertical-align: top;\n",
       "    }\n",
       "\n",
       "    .dataframe thead th {\n",
       "        text-align: right;\n",
       "    }\n",
       "</style>\n",
       "<table border=\"1\" class=\"dataframe\">\n",
       "  <thead>\n",
       "    <tr style=\"text-align: right;\">\n",
       "      <th></th>\n",
       "      <th>$x$</th>\n",
       "      <th>$m_{PQ}$</th>\n",
       "    </tr>\n",
       "  </thead>\n",
       "  <tbody>\n",
       "    <tr>\n",
       "      <th>0</th>\n",
       "      <td>0.000</td>\n",
       "      <td>1.000</td>\n",
       "    </tr>\n",
       "    <tr>\n",
       "      <th>1</th>\n",
       "      <td>0.500</td>\n",
       "      <td>1.500</td>\n",
       "    </tr>\n",
       "    <tr>\n",
       "      <th>2</th>\n",
       "      <td>0.900</td>\n",
       "      <td>1.900</td>\n",
       "    </tr>\n",
       "    <tr>\n",
       "      <th>3</th>\n",
       "      <td>0.990</td>\n",
       "      <td>1.990</td>\n",
       "    </tr>\n",
       "    <tr>\n",
       "      <th>4</th>\n",
       "      <td>0.999</td>\n",
       "      <td>1.999</td>\n",
       "    </tr>\n",
       "  </tbody>\n",
       "</table>\n",
       "</div>"
      ],
      "text/plain": [
       "     $x$  $m_{PQ}$\n",
       "0  0.000     1.000\n",
       "1  0.500     1.500\n",
       "2  0.900     1.900\n",
       "3  0.990     1.990\n",
       "4  0.999     1.999"
      ]
     },
     "execution_count": 12,
     "metadata": {},
     "output_type": "execute_result"
    }
   ],
   "source": [
    "result2 = {'$x$': x2, '$m_{PQ}$': slope_PQ(x2)}\n",
    "DataFrame(result2)"
   ]
  },
  {
   "cell_type": "markdown",
   "metadata": {},
   "source": [
    "## 4.2 The Velocity Problem\n",
    "\n",
    "Example 4.2: Suppose that a ball is dropped from the upper observation deck of\n",
    "the CN Tower in Toronto, 450 m above the ground. Find the velocity of the ball after 5 seconds.\n",
    "\n",
    "We find the average velocity over successively smaller time periods. "
   ]
  },
  {
   "cell_type": "code",
   "execution_count": 13,
   "metadata": {},
   "outputs": [
    {
     "data": {
      "text/html": [
       "<div>\n",
       "<style scoped>\n",
       "    .dataframe tbody tr th:only-of-type {\n",
       "        vertical-align: middle;\n",
       "    }\n",
       "\n",
       "    .dataframe tbody tr th {\n",
       "        vertical-align: top;\n",
       "    }\n",
       "\n",
       "    .dataframe thead th {\n",
       "        text-align: right;\n",
       "    }\n",
       "</style>\n",
       "<table border=\"1\" class=\"dataframe\">\n",
       "  <thead>\n",
       "    <tr style=\"text-align: right;\">\n",
       "      <th></th>\n",
       "      <th>Time Interval</th>\n",
       "      <th>Average Velocity</th>\n",
       "    </tr>\n",
       "  </thead>\n",
       "  <tbody>\n",
       "    <tr>\n",
       "      <th>0</th>\n",
       "      <td>$[5,6]$</td>\n",
       "      <td>53.9000</td>\n",
       "    </tr>\n",
       "    <tr>\n",
       "      <th>1</th>\n",
       "      <td>$[5, 5.1]$</td>\n",
       "      <td>49.4900</td>\n",
       "    </tr>\n",
       "    <tr>\n",
       "      <th>2</th>\n",
       "      <td>$[5, 5.05]$</td>\n",
       "      <td>49.2450</td>\n",
       "    </tr>\n",
       "    <tr>\n",
       "      <th>3</th>\n",
       "      <td>$[5, 5.01]$</td>\n",
       "      <td>49.0490</td>\n",
       "    </tr>\n",
       "    <tr>\n",
       "      <th>4</th>\n",
       "      <td>$[5, 5.001]$</td>\n",
       "      <td>49.0049</td>\n",
       "    </tr>\n",
       "  </tbody>\n",
       "</table>\n",
       "</div>"
      ],
      "text/plain": [
       "  Time Interval  Average Velocity\n",
       "0       $[5,6]$           53.9000\n",
       "1    $[5, 5.1]$           49.4900\n",
       "2   $[5, 5.05]$           49.2450\n",
       "3   $[5, 5.01]$           49.0490\n",
       "4  $[5, 5.001]$           49.0049"
      ]
     },
     "execution_count": 13,
     "metadata": {},
     "output_type": "execute_result"
    }
   ],
   "source": [
    "s = lambda t: 4.9*t**2 # the distance function\n",
    "# We next find the average velocity over the given time interval \n",
    "def ave_vel(a,b):\n",
    "    return (s(b)-s(a))/(b-a)\n",
    "\n",
    "table = {'Time Interval': ['$[5,6]$', '$[5, 5.1]$', '$[5, 5.05]$', '$[5, 5.01]$', '$[5, 5.001]$'],\n",
    "         'Average Velocity': [ave_vel(5,6), ave_vel(5,5.1), ave_vel(5,5.05), ave_vel(5,5.01), ave_vel(5,5.001)]}\n",
    "DataFrame(table)"
   ]
  },
  {
   "cell_type": "code",
   "execution_count": 14,
   "metadata": {},
   "outputs": [
    {
     "data": {
      "text/plain": [
       "49.00000036415315"
      ]
     },
     "execution_count": 14,
     "metadata": {},
     "output_type": "execute_result"
    }
   ],
   "source": [
    "speed = ave_vel(5, 5.0000001)\n",
    "speed"
   ]
  },
  {
   "cell_type": "markdown",
   "metadata": {},
   "source": [
    "## 4.4 The Limit of a Function\n",
    "\n",
    "Let us investigate the behavior of the function $f(x) = x^2-x+2$ for values of $x$ near 2. "
   ]
  },
  {
   "cell_type": "code",
   "execution_count": 15,
   "metadata": {},
   "outputs": [
    {
     "name": "stdout",
     "output_type": "stream",
     "text": [
      "x \t  f(x)\n",
      "1.000 \t 2.000000\n",
      "1.500 \t 2.750000\n",
      "1.800 \t 3.440000\n",
      "1.900 \t 3.710000\n",
      "1.950 \t 3.852500\n",
      "1.990 \t 3.970100\n",
      "1.995 \t 3.985025\n",
      "1.999 \t 3.997001\n",
      "\n",
      "x \t  f(x)\n",
      "3.000 \t 8.000000\n",
      "2.500 \t 5.750000\n",
      "2.200 \t 4.640000\n",
      "2.100 \t 4.310000\n",
      "2.050 \t 4.152500\n",
      "2.010 \t 4.030100\n",
      "2.005 \t 4.015025\n",
      "2.001 \t 4.003001\n"
     ]
    }
   ],
   "source": [
    "f = lambda x: x**2 - x + 2\n",
    "x1 = np.array([1.0, 1.5, 1.8, 1.9, 1.95, 1.99, 1.995, 1.999])\n",
    "x2 = np.array([3.0, 2.5, 2.2, 2.1, 2.05, 2.01, 2.005, 2.001])\n",
    "N = len(x1)\n",
    "\n",
    "print('x \\t  f(x)')\n",
    "for i in range(N):\n",
    "    print('%0.3f \\t %f' %(x1[i],f(x1[i])))\n",
    "    \n",
    "print('\\nx \\t  f(x)')\n",
    "for i in range(N):\n",
    "    print('%0.3f \\t %f' %(x2[i],f(x2[i])))\n"
   ]
  },
  {
   "cell_type": "markdown",
   "metadata": {},
   "source": [
    "**Example 4.4**: Guess the value of $\\lim_{x\\to 1}\\dfrac{x-1}{x^2-1}$."
   ]
  },
  {
   "cell_type": "code",
   "execution_count": 16,
   "metadata": {},
   "outputs": [
    {
     "data": {
      "text/plain": [
       "Ellipsis"
      ]
     },
     "execution_count": 16,
     "metadata": {},
     "output_type": "execute_result"
    }
   ],
   "source": [
    "# Enter your code here\n",
    "f = lambda x: (x-1)/(x**2-1)\n",
    "...\n"
   ]
  },
  {
   "cell_type": "markdown",
   "metadata": {},
   "source": [
    "**Example 4.5**: Estimate the value of $\\displaystyle\\lim_{t\\to 0}\\dfrac{\\sqrt{t^2+9}-3}{t^2}$."
   ]
  },
  {
   "cell_type": "code",
   "execution_count": 19,
   "metadata": {},
   "outputs": [
    {
     "name": "stdout",
     "output_type": "stream",
     "text": [
      "t \t  f(t)\n",
      "-1.000 \t 0.162278\n",
      "-0.500 \t 0.165525\n",
      "-0.100 \t 0.166620\n",
      "-0.005 \t 0.166667\n",
      "-0.001 \t 0.166667\n",
      "1.000 \t 0.162278\n",
      "0.500 \t 0.165525\n",
      "0.100 \t 0.166620\n",
      "0.005 \t 0.166667\n",
      "0.001 \t 0.166667\n"
     ]
    }
   ],
   "source": [
    "from math import *\n",
    "\n",
    "f = lambda t: (np.sqrt(t**2+9)-3)/t**2\n",
    "t = np.array([-1.0, -0.5, -0.1, -0.005, -0.001, 1.0, 0.5, 0.1, 0.005, 0.001])\n",
    "print('t \\t  f(t)')\n",
    "for i in range(len(t)):\n",
    "    print('%0.3f \\t %f' %(t[i],f(t[i])))"
   ]
  },
  {
   "cell_type": "code",
   "execution_count": 30,
   "metadata": {},
   "outputs": [
    {
     "data": {
      "image/png": "[encoded data removed]",
      "text/plain": [
       "<Figure size 432x288 with 1 Axes>"
      ]
     },
     "metadata": {
      "needs_background": "light"
     },
     "output_type": "display_data"
    }
   ],
   "source": [
    "t1 = np.arange(-0.05, - 0.001, 0.001)\n",
    "t2 = np.arange(0.001, 0.05, 0.001)\n",
    "\n",
    "t3 = np.concatenate(((t1, t2)), axis = 0)\n",
    "y = np.concatenate((f(t1), f(t2)), axis = 0)\n",
    "\n",
    "plt.plot(t3, y, label = \"$y = \\dfrac{\\sqrt{t^2+9}-3}{t^2}$\")\n",
    "plt.xlabel('t')\n",
    "plt.ylabel('y')\n",
    "plt.legend()\n",
    "plt.show()\n"
   ]
  },
  {
   "cell_type": "code",
   "execution_count": 38,
   "metadata": {},
   "outputs": [
    {
     "data": {
      "text/plain": [
       "array([0.16653345, 0.16666558, 0.16666638, 0.16666654, 0.1666666 ,\n",
       "       0.16666663, 0.16666664, 0.16666665, 0.16666666, 0.16666666])"
      ]
     },
     "execution_count": 38,
     "metadata": {},
     "output_type": "execute_result"
    }
   ],
   "source": [
    "# We can try to evaluate the value of small numbers.\n",
    "t = np.arange(0.000001, 0.0001, 0.00001)\n",
    "f(t)"
   ]
  },
  {
   "cell_type": "markdown",
   "metadata": {},
   "source": [
    "**Example 4.6**: Guess the value of $\\displaystyle\\lim_{x\\to 0}\\dfrac{\\sin x}{x}$."
   ]
  },
  {
   "cell_type": "code",
   "execution_count": 42,
   "metadata": {},
   "outputs": [
    {
     "name": "stdout",
     "output_type": "stream",
     "text": [
      "x \t  g(x)\n",
      "1.000 \t 0.841471\n",
      "0.500 \t 0.958851\n",
      "0.400 \t 0.973546\n",
      "0.300 \t 0.985067\n",
      "0.200 \t 0.993347\n",
      "0.100 \t 0.998334\n",
      "0.050 \t 0.999583\n",
      "0.010 \t 0.999983\n",
      "0.005 \t 0.999996\n",
      "0.001 \t 1.000000\n"
     ]
    }
   ],
   "source": [
    "g = lambda x: (np.sin(x))/x\n",
    "\n",
    "x = np.array([1.0, 0.5, 0.4, 0.3, 0.2, 0.1, 0.05, 0.01, 0.005, 0.001])\n",
    "print('x \\t  g(x)')\n",
    "for i in range(len(t)):\n",
    "    print('%0.3f \\t %f' %(x[i],g(x[i])))"
   ]
  },
  {
   "cell_type": "code",
   "execution_count": 47,
   "metadata": {},
   "outputs": [
    {
     "data": {
      "image/png": "[encoded data removed]",
      "text/plain": [
       "<Figure size 432x288 with 1 Axes>"
      ]
     },
     "metadata": {
      "needs_background": "light"
     },
     "output_type": "display_data"
    }
   ],
   "source": [
    "x1 = np.arange(-0.1, -0.001, 0.001)\n",
    "x2 = np.arange(0.001, 0.1, 0.001)\n",
    "\n",
    "x3 = np.concatenate(((x1, x2)), axis = 0)\n",
    "y =  np.concatenate(((g(x1), g(x2))), axis = 0)\n",
    "\n",
    "plt.plot(x3, y, label = \"$y = \\dfrac{\\sin x}{x}$\")\n",
    "plt.xlabel('x')\n",
    "plt.ylabel('y')\n",
    "plt.legend()\n",
    "plt.show()"
   ]
  },
  {
   "cell_type": "markdown",
   "metadata": {},
   "source": [
    "**Example 4.7**: Investigate $\\displaystyle\\lim_{x\\to 0}\\sin\\dfrac{\\pi}{x}$.\n",
    "\n",
    "We will see that this limit does not exist by looking the graph of $y = \\sin\\dfrac{\\pi}{x}$ near $x=0$. "
   ]
  },
  {
   "cell_type": "code",
   "execution_count": 48,
   "metadata": {},
   "outputs": [
    {
     "data": {
      "text/plain": [
       "1.2246467991473532e-16"
      ]
     },
     "execution_count": 48,
     "metadata": {},
     "output_type": "execute_result"
    }
   ],
   "source": [
    "h = lambda x: np.sin(np.pi/x)"
   ]
  },
  {
   "cell_type": "code",
   "execution_count": 49,
   "metadata": {},
   "outputs": [
    {
     "data": {
      "image/png": "[encoded data removed]",
      "text/plain": [
       "<Figure size 432x288 with 1 Axes>"
      ]
     },
     "metadata": {
      "needs_background": "light"
     },
     "output_type": "display_data"
    }
   ],
   "source": [
    "x1 = np.arange(-0.1, -0.001, 0.001)\n",
    "x2 = np.arange(0.001, 0.1, 0.001)\n",
    "\n",
    "x3 = np.concatenate(((x1, x2)), axis = 0)\n",
    "y =  np.concatenate(((h(x1), h(x2))), axis = 0)\n",
    "\n",
    "plt.plot(x3, y, label = \"$y = \\sin\\dfrac{\\pi}{x}$\")\n",
    "plt.xlabel('x')\n",
    "plt.ylabel('y')\n",
    "plt.legend()\n",
    "plt.show()"
   ]
  }
 ],
 "metadata": {
  "kernelspec": {
   "display_name": "Python 3",
   "language": "python",
   "name": "python3"
  },
  "language_info": {
   "codemirror_mode": {
    "name": "ipython",
    "version": 3
   },
   "file_extension": ".py",
   "mimetype": "text/x-python",
   "name": "python",
   "nbconvert_exporter": "python",
   "pygments_lexer": "ipython3",
   "version": "3.7.6"
  }
 },
 "nbformat": 4,
 "nbformat_minor": 2
}
