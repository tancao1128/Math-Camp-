{
 "cells": [
  {
   "cell_type": "markdown",
   "metadata": {},
   "source": [
    "# 5 Derivatives and Rates of Changes\n",
    "\n",
    "We refer to [this nice article](https://towardsdatascience.com/taking-derivatives-in-python-d6229ba72c64) for computing derivatives in Python. \n",
    "\n",
    "We first need to import the package sympy. "
   ]
  },
  {
   "cell_type": "code",
   "execution_count": 4,
   "metadata": {},
   "outputs": [],
   "source": [
    "import sympy as sp"
   ]
  },
  {
   "cell_type": "markdown",
   "metadata": {},
   "source": [
    "Then choose any symbol we want."
   ]
  },
  {
   "cell_type": "code",
   "execution_count": 10,
   "metadata": {},
   "outputs": [],
   "source": [
    "x = sp.Symbol('x')"
   ]
  },
  {
   "cell_type": "markdown",
   "metadata": {},
   "source": [
    "Compute the derivative of the following functions.\n",
    "\n",
    "1. $f_1(x) = x^5$\n",
    "2. $f_2(x) = \\frac{7}{4}x^2-3x+12$\n",
    "3. $f_3(t) = 2t^{-3/4}$\n",
    "4. $f_4(p) = \\sqrt p-p$\n",
    "5. $f_5(x) = 3e^x+\\dfrac{4}{\\sqrt[3]x}$\n",
    "6. $f_6(r) = e^r +r^e$\n",
    "7. $f_7(x) = \\sin x$\n",
    "8. $f_8(x) = \\cos x$\n",
    "9. $f_9(x) = \\tan x$\n",
    "10. $f_{10}(x) = \\cot x$\n",
    "11. $f_{11}(x) = 2^x$\n",
    "12. $f_{12}(x) = \\log_3(x)$\n",
    "13. $f_{13}(x) = \\ln(\\sin x)$\n",
    "14. $f_{14}(x) = \\sqrt{\\ln x}$\n",
    "15. $f_{15}(x) = \\log_{10}(2+\\sin x)$\n",
    "16. $f_{16}(x) = \\ln\\dfrac{x+1}{\\sqrt{x-2}}$\n",
    "17. $f_{17}(x) = x^x$\n",
    "18. $f_{18}(x) = x^{\\sqrt x}$\n",
    "19. $f_{19}(x) = \\arcsin (x)$\n",
    "20. $f_{20}(x) = \\arccos(x)$\n",
    "21. $f_{21}(x) = \\arctan(x)$"
   ]
  },
  {
   "cell_type": "code",
   "execution_count": 12,
   "metadata": {},
   "outputs": [
    {
     "data": {
      "text/latex": [
       "$\\displaystyle 5 x^{4}$"
      ],
      "text/plain": [
       "5*x**4"
      ]
     },
     "execution_count": 12,
     "metadata": {},
     "output_type": "execute_result"
    }
   ],
   "source": [
    "f1 = sp.diff(x**5)\n",
    "f1"
   ]
  },
  {
   "cell_type": "code",
   "execution_count": 13,
   "metadata": {},
   "outputs": [
    {
     "data": {
      "text/latex": [
       "$\\displaystyle 3.5 x - 3$"
      ],
      "text/plain": [
       "3.5*x - 3"
      ]
     },
     "execution_count": 13,
     "metadata": {},
     "output_type": "execute_result"
    }
   ],
   "source": [
    "f2 = sp.diff((7/4)*x**2-3*x+12)\n",
    "f2"
   ]
  },
  {
   "cell_type": "code",
   "execution_count": 14,
   "metadata": {},
   "outputs": [
    {
     "data": {
      "text/latex": [
       "$\\displaystyle - \\frac{1.5}{t^{1.75}}$"
      ],
      "text/plain": [
       "-1.5*t**(-1.75)"
      ]
     },
     "execution_count": 14,
     "metadata": {},
     "output_type": "execute_result"
    }
   ],
   "source": [
    "t = sp.Symbol('t')\n",
    "f3 = sp.diff(2*t**(-3/4))\n",
    "f3"
   ]
  },
  {
   "cell_type": "code",
   "execution_count": 33,
   "metadata": {},
   "outputs": [
    {
     "data": {
      "text/latex": [
       "$\\displaystyle -1 + \\frac{1}{2 \\sqrt{p}}$"
      ],
      "text/plain": [
       "-1 + 1/(2*sqrt(p))"
      ]
     },
     "execution_count": 33,
     "metadata": {},
     "output_type": "execute_result"
    }
   ],
   "source": [
    "from math import *\n",
    "\n",
    "p = sp.Symbol('p')\n",
    "f4 = sp.diff(sp.sqrt(p)-p)\n",
    "f4"
   ]
  },
  {
   "cell_type": "code",
   "execution_count": 31,
   "metadata": {},
   "outputs": [
    {
     "data": {
      "text/latex": [
       "$\\displaystyle - \\frac{1.33333333333333}{x^{1.33333333333333}} + 3 e^{x}$"
      ],
      "text/plain": [
       "-1.33333333333333*x**(-1.33333333333333) + 3*exp(x)"
      ]
     },
     "execution_count": 31,
     "metadata": {},
     "output_type": "execute_result"
    }
   ],
   "source": [
    "f5 = sp.diff(3*sp.exp(x) +4/(x**(1/3)))\n",
    "f5"
   ]
  },
  {
   "cell_type": "code",
   "execution_count": 30,
   "metadata": {},
   "outputs": [
    {
     "data": {
      "text/latex": [
       "$\\displaystyle e^{r} + \\frac{e r^{e}}{r}$"
      ],
      "text/plain": [
       "exp(r) + E*r**E/r"
      ]
     },
     "execution_count": 30,
     "metadata": {},
     "output_type": "execute_result"
    }
   ],
   "source": [
    "r = sp.Symbol('r')\n",
    "f6 = sp.diff(sp.exp(r) + r**(sp.exp(1)))\n",
    "f6"
   ]
  },
  {
   "cell_type": "code",
   "execution_count": 32,
   "metadata": {},
   "outputs": [
    {
     "data": {
      "text/latex": [
       "$\\displaystyle \\cos{\\left(x \\right)}$"
      ],
      "text/plain": [
       "cos(x)"
      ]
     },
     "execution_count": 32,
     "metadata": {},
     "output_type": "execute_result"
    }
   ],
   "source": [
    "f7 = sp.diff(sp.sin(x))\n",
    "f7"
   ]
  },
  {
   "cell_type": "code",
   "execution_count": 34,
   "metadata": {},
   "outputs": [
    {
     "data": {
      "text/latex": [
       "$\\displaystyle - \\sin{\\left(x \\right)}$"
      ],
      "text/plain": [
       "-sin(x)"
      ]
     },
     "execution_count": 34,
     "metadata": {},
     "output_type": "execute_result"
    }
   ],
   "source": [
    "f8 = sp.diff(sp.cos(x))\n",
    "f8"
   ]
  },
  {
   "cell_type": "code",
   "execution_count": 36,
   "metadata": {},
   "outputs": [
    {
     "data": {
      "text/latex": [
       "$\\displaystyle \\tan^{2}{\\left(x \\right)} + 1$"
      ],
      "text/plain": [
       "tan(x)**2 + 1"
      ]
     },
     "execution_count": 36,
     "metadata": {},
     "output_type": "execute_result"
    }
   ],
   "source": [
    "f9 = sp.diff(sp.tan(x))\n",
    "f9"
   ]
  },
  {
   "cell_type": "code",
   "execution_count": 37,
   "metadata": {},
   "outputs": [
    {
     "data": {
      "text/latex": [
       "$\\displaystyle - \\cot^{2}{\\left(x \\right)} - 1$"
      ],
      "text/plain": [
       "-cot(x)**2 - 1"
      ]
     },
     "execution_count": 37,
     "metadata": {},
     "output_type": "execute_result"
    }
   ],
   "source": [
    "f10 = sp.diff(sp.cot(x))\n",
    "f10"
   ]
  },
  {
   "cell_type": "code",
   "execution_count": 38,
   "metadata": {},
   "outputs": [
    {
     "data": {
      "text/latex": [
       "$\\displaystyle 2^{x} \\log{\\left(2 \\right)}$"
      ],
      "text/plain": [
       "2**x*log(2)"
      ]
     },
     "execution_count": 38,
     "metadata": {},
     "output_type": "execute_result"
    }
   ],
   "source": [
    "f11 = sp.diff(2**x)\n",
    "f11"
   ]
  },
  {
   "cell_type": "code",
   "execution_count": 40,
   "metadata": {},
   "outputs": [
    {
     "data": {
      "text/latex": [
       "$\\displaystyle \\frac{1}{x \\log{\\left(3 \\right)}}$"
      ],
      "text/plain": [
       "1/(x*log(3))"
      ]
     },
     "execution_count": 40,
     "metadata": {},
     "output_type": "execute_result"
    }
   ],
   "source": [
    "f12 = sp.diff(sp.log(x,3))\n",
    "f12"
   ]
  },
  {
   "cell_type": "code",
   "execution_count": 41,
   "metadata": {},
   "outputs": [
    {
     "data": {
      "text/latex": [
       "$\\displaystyle \\frac{\\cos{\\left(x \\right)}}{\\sin{\\left(x \\right)}}$"
      ],
      "text/plain": [
       "cos(x)/sin(x)"
      ]
     },
     "execution_count": 41,
     "metadata": {},
     "output_type": "execute_result"
    }
   ],
   "source": [
    "f13 = sp.diff(sp.log(sp.sin(x)))\n",
    "f13"
   ]
  },
  {
   "cell_type": "code",
   "execution_count": 42,
   "metadata": {},
   "outputs": [
    {
     "data": {
      "text/latex": [
       "$\\displaystyle \\frac{1}{2 x \\sqrt{\\log{\\left(x \\right)}}}$"
      ],
      "text/plain": [
       "1/(2*x*sqrt(log(x)))"
      ]
     },
     "execution_count": 42,
     "metadata": {},
     "output_type": "execute_result"
    }
   ],
   "source": [
    "f14 = sp.diff(sp.sqrt(sp.log(x)))\n",
    "f14"
   ]
  },
  {
   "cell_type": "code",
   "execution_count": 44,
   "metadata": {},
   "outputs": [
    {
     "data": {
      "text/latex": [
       "$\\displaystyle \\frac{\\cos{\\left(x \\right)}}{\\left(\\sin{\\left(x \\right)} + 2\\right) \\log{\\left(10 \\right)}}$"
      ],
      "text/plain": [
       "cos(x)/((sin(x) + 2)*log(10))"
      ]
     },
     "execution_count": 44,
     "metadata": {},
     "output_type": "execute_result"
    }
   ],
   "source": [
    "f15 = sp.diff(sp.log(2+sp.sin(x),10))\n",
    "f15"
   ]
  },
  {
   "cell_type": "code",
   "execution_count": 45,
   "metadata": {},
   "outputs": [
    {
     "data": {
      "text/latex": [
       "$\\displaystyle \\frac{\\sqrt{x - 2} \\left(\\frac{1}{\\sqrt{x - 2}} - \\frac{x + 1}{2 \\left(x - 2\\right)^{\\frac{3}{2}}}\\right)}{x + 1}$"
      ],
      "text/plain": [
       "sqrt(x - 2)*(1/sqrt(x - 2) - (x + 1)/(2*(x - 2)**(3/2)))/(x + 1)"
      ]
     },
     "execution_count": 45,
     "metadata": {},
     "output_type": "execute_result"
    }
   ],
   "source": [
    "f16 = sp.diff(sp.log((x+1)/(sp.sqrt(x-2))))\n",
    "f16"
   ]
  },
  {
   "cell_type": "code",
   "execution_count": 46,
   "metadata": {},
   "outputs": [
    {
     "data": {
      "text/latex": [
       "$\\displaystyle x^{x} \\left(\\log{\\left(x \\right)} + 1\\right)$"
      ],
      "text/plain": [
       "x**x*(log(x) + 1)"
      ]
     },
     "execution_count": 46,
     "metadata": {},
     "output_type": "execute_result"
    }
   ],
   "source": [
    "f17 = sp.diff(x**x)\n",
    "f17"
   ]
  },
  {
   "cell_type": "code",
   "execution_count": 47,
   "metadata": {},
   "outputs": [
    {
     "data": {
      "text/latex": [
       "$\\displaystyle x^{\\sqrt{x}} \\left(\\frac{\\log{\\left(x \\right)}}{2 \\sqrt{x}} + \\frac{1}{\\sqrt{x}}\\right)$"
      ],
      "text/plain": [
       "x**(sqrt(x))*(log(x)/(2*sqrt(x)) + 1/sqrt(x))"
      ]
     },
     "execution_count": 47,
     "metadata": {},
     "output_type": "execute_result"
    }
   ],
   "source": [
    "f18 = sp.diff(x**(sp.sqrt(x)))\n",
    "f18"
   ]
  },
  {
   "cell_type": "code",
   "execution_count": 51,
   "metadata": {},
   "outputs": [
    {
     "data": {
      "text/latex": [
       "$\\displaystyle \\frac{1}{\\sqrt{1 - x^{2}}}$"
      ],
      "text/plain": [
       "1/sqrt(1 - x**2)"
      ]
     },
     "execution_count": 51,
     "metadata": {},
     "output_type": "execute_result"
    }
   ],
   "source": [
    "f19 = sp.diff(sp.asin(x))\n",
    "f19"
   ]
  },
  {
   "cell_type": "code",
   "execution_count": 52,
   "metadata": {},
   "outputs": [
    {
     "data": {
      "text/latex": [
       "$\\displaystyle - \\frac{1}{\\sqrt{1 - x^{2}}}$"
      ],
      "text/plain": [
       "-1/sqrt(1 - x**2)"
      ]
     },
     "execution_count": 52,
     "metadata": {},
     "output_type": "execute_result"
    }
   ],
   "source": [
    "f20 = sp.diff(sp.acos(x))\n",
    "f20"
   ]
  },
  {
   "cell_type": "code",
   "execution_count": 53,
   "metadata": {},
   "outputs": [
    {
     "data": {
      "text/latex": [
       "$\\displaystyle \\frac{1}{x^{2} + 1}$"
      ],
      "text/plain": [
       "1/(x**2 + 1)"
      ]
     },
     "execution_count": 53,
     "metadata": {},
     "output_type": "execute_result"
    }
   ],
   "source": [
    "f21 = sp.diff(sp.atan(x))\n",
    "f21"
   ]
  },
  {
   "cell_type": "code",
   "execution_count": null,
   "metadata": {},
   "outputs": [],
   "source": []
  }
 ],
 "metadata": {
  "kernelspec": {
   "display_name": "Python 3",
   "language": "python",
   "name": "python3"
  },
  "language_info": {
   "codemirror_mode": {
    "name": "ipython",
    "version": 3
   },
   "file_extension": ".py",
   "mimetype": "text/x-python",
   "name": "python",
   "nbconvert_exporter": "python",
   "pygments_lexer": "ipython3",
   "version": "3.7.6"
  }
 },
 "nbformat": 4,
 "nbformat_minor": 4
}
