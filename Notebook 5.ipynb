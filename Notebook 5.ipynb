{
 "cells": [
  {
   "cell_type": "markdown",
   "metadata": {},
   "source": [
    "# 6 Linear Approximations and Differentials \n",
    "\n",
    "**Example 6.1**: Find the linearization of the function $f(x)=\\sqrt{x+3}$ at $a=1$ and use it to approximate $\\sqrt{3.98}$ and $\\sqrt{4.05}$."
   ]
  },
  {
   "cell_type": "code",
   "execution_count": 1,
   "metadata": {},
   "outputs": [
    {
     "data": {
      "text/latex": [
       "$\\displaystyle \\frac{1}{2 \\sqrt{x + 3}}$"
      ],
      "text/plain": [
       "1/(2*sqrt(x + 3))"
      ]
     },
     "execution_count": 1,
     "metadata": {},
     "output_type": "execute_result"
    }
   ],
   "source": [
    "# We first differentiate f\n",
    "\n",
    "import sympy as sp\n",
    "import numpy as np\n",
    "\n",
    "x = sp.Symbol('x')\n",
    "sp.diff(sp.sqrt(x+3))\n",
    "\n"
   ]
  },
  {
   "cell_type": "code",
   "execution_count": 2,
   "metadata": {},
   "outputs": [],
   "source": [
    "f = lambda x: np.sqrt(x+3)         # the function f\n",
    "df = lambda x: 1/(2*np.sqrt(x+3))  # the derivative of f: f'\n",
    "a = 1\n",
    "L = lambda x: f(a) + df(a)*(x-a)   # the linearization of f at a = 1\n"
   ]
  },
  {
   "cell_type": "markdown",
   "metadata": {},
   "source": [
    "Now we can approximate $\\sqrt{3.98}$ and $\\sqrt{4.05}$ as follows."
   ]
  },
  {
   "cell_type": "code",
   "execution_count": 3,
   "metadata": {},
   "outputs": [
    {
     "data": {
      "text/plain": [
       "1.995"
      ]
     },
     "execution_count": 3,
     "metadata": {},
     "output_type": "execute_result"
    }
   ],
   "source": [
    "L(0.98)"
   ]
  },
  {
   "cell_type": "markdown",
   "metadata": {},
   "source": [
    "It's your turn to approximate $\\sqrt{4.05}$."
   ]
  },
  {
   "cell_type": "code",
   "execution_count": 4,
   "metadata": {},
   "outputs": [],
   "source": [
    "# Enter your code here\n",
    "..."
   ]
  },
  {
   "cell_type": "markdown",
   "metadata": {},
   "source": [
    "We even can use the this **linear approximation** to approximate $f(x)$ whenever $x$ is nearby $a=1$. "
   ]
  },
  {
   "cell_type": "code",
   "execution_count": 6,
   "metadata": {},
   "outputs": [
    {
     "data": {
      "text/html": [
       "<div>\n",
       "<style scoped>\n",
       "    .dataframe tbody tr th:only-of-type {\n",
       "        vertical-align: middle;\n",
       "    }\n",
       "\n",
       "    .dataframe tbody tr th {\n",
       "        vertical-align: top;\n",
       "    }\n",
       "\n",
       "    .dataframe thead th {\n",
       "        text-align: right;\n",
       "    }\n",
       "</style>\n",
       "<table border=\"1\" class=\"dataframe\">\n",
       "  <thead>\n",
       "    <tr style=\"text-align: right;\">\n",
       "      <th></th>\n",
       "      <th></th>\n",
       "      <th>$x$</th>\n",
       "      <th>$L(x)$</th>\n",
       "      <th>$f(x)$</th>\n",
       "      <th>Error</th>\n",
       "    </tr>\n",
       "  </thead>\n",
       "  <tbody>\n",
       "    <tr>\n",
       "      <td>0</td>\n",
       "      <td>$\\sqrt{3.9}$</td>\n",
       "      <td>$0.9$</td>\n",
       "      <td>1.9750</td>\n",
       "      <td>1.974842</td>\n",
       "      <td>0.000158</td>\n",
       "    </tr>\n",
       "    <tr>\n",
       "      <td>1</td>\n",
       "      <td>$\\sqrt{3.98}$</td>\n",
       "      <td>$0.98$</td>\n",
       "      <td>1.9950</td>\n",
       "      <td>1.994994</td>\n",
       "      <td>0.000006</td>\n",
       "    </tr>\n",
       "    <tr>\n",
       "      <td>2</td>\n",
       "      <td>$\\sqrt{4}$</td>\n",
       "      <td>$1$</td>\n",
       "      <td>2.0000</td>\n",
       "      <td>2.000000</td>\n",
       "      <td>0.000000</td>\n",
       "    </tr>\n",
       "    <tr>\n",
       "      <td>3</td>\n",
       "      <td>$\\sqrt{4.05}$</td>\n",
       "      <td>$1.05$</td>\n",
       "      <td>2.0125</td>\n",
       "      <td>2.012461</td>\n",
       "      <td>0.000039</td>\n",
       "    </tr>\n",
       "    <tr>\n",
       "      <td>4</td>\n",
       "      <td>$\\sqrt{4.1}$</td>\n",
       "      <td>$1.1$</td>\n",
       "      <td>2.0250</td>\n",
       "      <td>2.024846</td>\n",
       "      <td>0.000154</td>\n",
       "    </tr>\n",
       "    <tr>\n",
       "      <td>5</td>\n",
       "      <td>$\\sqrt{5}$</td>\n",
       "      <td>$2$</td>\n",
       "      <td>2.2500</td>\n",
       "      <td>2.236068</td>\n",
       "      <td>0.013932</td>\n",
       "    </tr>\n",
       "    <tr>\n",
       "      <td>6</td>\n",
       "      <td>$\\sqrt{6}$</td>\n",
       "      <td>$3$</td>\n",
       "      <td>2.5000</td>\n",
       "      <td>2.449490</td>\n",
       "      <td>0.050510</td>\n",
       "    </tr>\n",
       "  </tbody>\n",
       "</table>\n",
       "</div>"
      ],
      "text/plain": [
       "                     $x$  $L(x)$    $f(x)$     Error\n",
       "0   $\\sqrt{3.9}$   $0.9$  1.9750  1.974842  0.000158\n",
       "1  $\\sqrt{3.98}$  $0.98$  1.9950  1.994994  0.000006\n",
       "2     $\\sqrt{4}$     $1$  2.0000  2.000000  0.000000\n",
       "3  $\\sqrt{4.05}$  $1.05$  2.0125  2.012461  0.000039\n",
       "4   $\\sqrt{4.1}$   $1.1$  2.0250  2.024846  0.000154\n",
       "5     $\\sqrt{5}$     $2$  2.2500  2.236068  0.013932\n",
       "6     $\\sqrt{6}$     $3$  2.5000  2.449490  0.050510"
      ]
     },
     "execution_count": 6,
     "metadata": {},
     "output_type": "execute_result"
    }
   ],
   "source": [
    "from math import *\n",
    "from pandas import DataFrame\n",
    "\n",
    "table = {'': ['$\\sqrt{3.9}$', '$\\sqrt{3.98}$', '$\\sqrt{4}$', '$\\sqrt{4.05}$', '$\\sqrt{4.1}$', '$\\sqrt{5}$', '$\\sqrt{6}$'], \n",
    "         '$x$': ['$0.9$', '$0.98$', '$1$', '$1.05$', '$1.1$', '$2$', '$3$'],\n",
    "         '$L(x)$': [L(0.9), L(0.98), L(1), L(1.05), L(1.1), L(2), L(3)],\n",
    "         '$f(x)$': [f(0.9), f(0.98), f(1), f(1.05), f(1.1), f(2), f(3)],\n",
    "         'Error': [abs(L(0.9)-f(0.9)), abs(L(0.98)-f(0.98)), abs(L(1)-f(1)), abs(L(1.05)-f(1.05)), abs(L(1.1)-f(1.1)), abs(L(2)-f(2)),abs(L(3)-f(3))]}\n",
    "DataFrame(table)"
   ]
  },
  {
   "cell_type": "markdown",
   "metadata": {},
   "source": [
    "Next we can graph both functions $f$ and its linear approximation $L$ on the same screen. "
   ]
  },
  {
   "cell_type": "code",
   "execution_count": 9,
   "metadata": {},
   "outputs": [
    {
     "data": {
      "image/png": "[encoded data removed]",
      "text/plain": [
       "<Figure size 432x288 with 1 Axes>"
      ]
     },
     "metadata": {
      "needs_background": "light"
     },
     "output_type": "display_data"
    }
   ],
   "source": [
    "import numpy as np\n",
    "import matplotlib.pyplot as plt\n",
    "\n",
    "x = np.linspace(-3, 6, endpoint = True)\n",
    "\n",
    "plt.plot(x, f(x), label = \"$y = f(x)$\")\n",
    "plt.plot(x, L(x), label = \"$y = L(x)$\")\n",
    "plt.xlabel('x')\n",
    "plt.ylabel('y')\n",
    "plt.grid(True)\n",
    "plt.legend()\n",
    "plt.show()"
   ]
  },
  {
   "cell_type": "markdown",
   "metadata": {},
   "source": [
    "**Example 6.2**: Compare the values of $\\Delta y$ and $dy$ if $f(x)=x^3+x^2-2x+1$ and $x$ changes \n",
    "1. from 2 to 2.05\n",
    "2. from 2 to 2.01"
   ]
  },
  {
   "cell_type": "code",
   "execution_count": 10,
   "metadata": {},
   "outputs": [],
   "source": [
    "f = lambda x: x**3 + x**2 - 2*x + 1\n",
    "df = lambda x: 3*x**2 + 2*x - 2\n"
   ]
  },
  {
   "cell_type": "markdown",
   "metadata": {},
   "source": [
    "We compute $\\Delta y$ and $dy$ when $x$ changes from 2 to 2.05."
   ]
  },
  {
   "cell_type": "code",
   "execution_count": 12,
   "metadata": {},
   "outputs": [],
   "source": [
    "dx = lambda a, b: b - a               # the change in x from a to b\n",
    "Delta_y = lambda a, b: f(b) - f(a)    # the corresponding change in y\n",
    "dy = lambda a, b: df(a)*dx(a,b) # the corresponding differential dy"
   ]
  },
  {
   "cell_type": "code",
   "execution_count": 14,
   "metadata": {},
   "outputs": [
    {
     "name": "stdout",
     "output_type": "stream",
     "text": [
      "Delta_y = 0.7176249999999964\n",
      "dy =  0.6999999999999975\n"
     ]
    }
   ],
   "source": [
    "print('Delta_y =', Delta_y(a=2, b=2.05))\n",
    "print('dy = ', dy(a=2, b=2.05))"
   ]
  },
  {
   "cell_type": "markdown",
   "metadata": {},
   "source": [
    "It's your turn to compute $\\Delta y$ and $dy$ when $x$ changes from 2 to 2.01."
   ]
  },
  {
   "cell_type": "code",
   "execution_count": 15,
   "metadata": {},
   "outputs": [],
   "source": [
    "# Enter your code here\n",
    "..."
   ]
  }
 ],
 "metadata": {
  "kernelspec": {
   "display_name": "Python 3",
   "language": "python",
   "name": "python3"
  },
  "language_info": {
   "codemirror_mode": {
    "name": "ipython",
    "version": 3
   },
   "file_extension": ".py",
   "mimetype": "text/x-python",
   "name": "python",
   "nbconvert_exporter": "python",
   "pygments_lexer": "ipython3",
   "version": "3.7.6"
  }
 },
 "nbformat": 4,
 "nbformat_minor": 2
}
