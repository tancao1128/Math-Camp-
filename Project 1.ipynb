{
 "cells": [
  {
   "cell_type": "markdown",
   "metadata": {},
   "source": [
    "# Project 1\n",
    "\n",
    "Suppose you are serving in the customer service of some cell phone company and want to advertise the cell phone plan mentioned in the lecture to customers. \n",
    "This is a kind of tedious job since you have to repeat the necessary information over and over. However, your schedule is very tight so you want to make a chatbot to do that job for you. You can make it by writing a selling program in Python as follows. \n",
    "\n",
    "* Write the function **C(x)** to compute the cost $C(x)$\n",
    "* Write the function **solveLin(a,b)** to solve a linear equation. \n",
    "* Write the function **welcome()** to print out a welcome message. \n",
    "* Write the function **service()** to ask the customer's name and his/her option. \n",
    "* Write the function **option1()** to compute the amount of money that the customer has to pay with the given number of data used per month. \n",
    "* Write the function **option2()** to estimate the number of the data used per month with the given deposite. \n",
    "* Write the function **restart()** to ask the customer if he/she wants to remake his/her option. "
   ]
  },
  {
   "cell_type": "code",
   "execution_count": 1,
   "metadata": {},
   "outputs": [],
   "source": [
    "# The cost function is a defined-piecewise function\n",
    "def C(x):\n",
    "    if x <= 2:\n",
    "        cost = 39\n",
    "    else:\n",
    "        # edit your code here\n",
    "    return cost\n"
   ]
  },
  {
   "cell_type": "markdown",
   "metadata": {},
   "source": [
    "Noww try to your cost function to compute the price of using 3 gigabytes. "
   ]
  },
  {
   "cell_type": "code",
   "execution_count": 2,
   "metadata": {},
   "outputs": [],
   "source": [
    "C(3)"
   ]
  },
  {
   "cell_type": "markdown",
   "metadata": {},
   "source": [
    "If you write a correct code, you should get the answer = 54."
   ]
  },
  {
   "cell_type": "markdown",
   "metadata": {},
   "source": [
    "Next you will write a function to solve a linear equation $ax+b = 0$. This function is needed when your customers want to know how much data they can spend per month with a given amount of money. "
   ]
  },
  {
   "cell_type": "code",
   "execution_count": 3,
   "metadata": {},
   "outputs": [],
   "source": [
    "def solveLin(a,b): # solve a linear equation ax+b=0\n",
    "    # Enter your code here\n",
    "                  \n"
   ]
  },
  {
   "cell_type": "markdown",
   "metadata": {},
   "source": [
    "Try to use your code to solve the equation $x+1=0$. Your code should return the answer as $-1$."
   ]
  },
  {
   "cell_type": "code",
   "execution_count": 4,
   "metadata": {},
   "outputs": [],
   "source": [
    "z = solveLin(1,1)\n",
    "z"
   ]
  },
  {
   "cell_type": "markdown",
   "metadata": {},
   "source": [
    "When you have a series of print statements, they execute so quickly that it usually just looks like they’re being displayed all together at the same time. That’s not what we want.\n",
    "You can pause the statements briefly by using Python’s time module. Specifically, you need the sleep function from this module.\n",
    "For example, if you want to pause 2 seconds when printing out the statements ‘Hello’ and ‘world!’, you should you the syntax:"
   ]
  },
  {
   "cell_type": "code",
   "execution_count": 2,
   "metadata": {},
   "outputs": [
    {
     "name": "stdout",
     "output_type": "stream",
     "text": [
      "hello\n",
      "world\n"
     ]
    }
   ],
   "source": [
    "import time\n",
    "print('hello')\n",
    "time.sleep(2)\n",
    "print('world')"
   ]
  },
  {
   "cell_type": "markdown",
   "metadata": {},
   "source": [
    "Now you don't want to repeat the syntax time.sleep(2) over and over. You can avoid that by using the following function. "
   ]
  },
  {
   "cell_type": "code",
   "execution_count": 3,
   "metadata": {},
   "outputs": [],
   "source": [
    "import time\n",
    "\n",
    "def prt(string):\n",
    "    print(string)\n",
    "    time.sleep(2)"
   ]
  },
  {
   "cell_type": "markdown",
   "metadata": {},
   "source": [
    "For example, you can print out the following messages:\n",
    "\n",
    "Hello, I am Tan.\n",
    "\n",
    "Nice to meet you all."
   ]
  },
  {
   "cell_type": "code",
   "execution_count": 4,
   "metadata": {},
   "outputs": [
    {
     "name": "stdout",
     "output_type": "stream",
     "text": [
      "Hello, I am Tan.\n",
      "Nice to meet you all.\n"
     ]
    }
   ],
   "source": [
    "prt('Hello, I am Tan.')\n",
    "prt('Nice to meet you all.')"
   ]
  },
  {
   "cell_type": "markdown",
   "metadata": {},
   "source": [
    "Next you will write the function **welcome( )** to print out the welcome message to the customers:\n",
    "    \n",
    "Welcome to our shop! <br/>\n",
    "Recently, we can offer you a cell phone plan that costs $\\$39$ a month. <br/>\n",
    "The plan includes 2 gigabytes (GB) of free data <br/>\n",
    "and charges $15 per GB for any additional data used.\n",
    "    "
   ]
  },
  {
   "cell_type": "code",
   "execution_count": null,
   "metadata": {},
   "outputs": [],
   "source": [
    "def welcome():\n",
    "    prt('Welcome to our shop! ')\n",
    "    prt('Recently, we can offer you a cell phone plan that costs $39 a month.') \n",
    "    # Enter your code here"
   ]
  },
  {
   "cell_type": "markdown",
   "metadata": {},
   "source": [
    "Next you will write the function **service( )** to ask the customers' names.\n",
    "\n",
    "For example, Please enter your name: <br/>\n",
    "The customer says \"Tan\". <br/>\n",
    "After receiving the name, you will give the following responses:\n",
    "\n",
    "Hello, **Tan**. Nice to meet you. <br/>\n",
    "If you would like to pay after, please select option 1. <br/>\n",
    "If you would like to pay before, please select option 2. "
   ]
  },
  {
   "cell_type": "code",
   "execution_count": null,
   "metadata": {},
   "outputs": [],
   "source": [
    "def service():\n",
    "    name = input('Please enter your name: ')\n",
    "    prt('Hello ' + name + '. Nice to meet you.') \n",
    "    # Enter your code here\n",
    "    \n",
    "    # Call the following functions which will be defined later.\n",
    "    option()    # This function will give the customers 2 options.\n",
    "    restart()   # This function will ask if the customers want to make another option."
   ]
  },
  {
   "cell_type": "markdown",
   "metadata": {},
   "source": [
    "After that the customers will select their options, either 1 or 2. If they select a nonsense option (by mistake), you will ask them to reselect their option. You don't need to modify anything in the code below. "
   ]
  },
  {
   "cell_type": "code",
   "execution_count": 5,
   "metadata": {},
   "outputs": [],
   "source": [
    "def option():    \n",
    "    choice = input('Please select your option 1 or 2: \\n')\n",
    "    time.sleep(2)\n",
    "    if '1' in choice:\n",
    "        # If they select this option, you will call the function option1()\n",
    "        option1() \n",
    "    elif '2' in choice: \n",
    "        # If they select this option, you will call the function option1()\n",
    "        option2()\n",
    "    else:\n",
    "        prt('Sorry, you entered an invalid input. Please do it again.')\n",
    "        # If they make a mistake, you will recall the function option()\n",
    "        option()\n",
    "                  "
   ]
  },
  {
   "cell_type": "markdown",
   "metadata": {},
   "source": [
    "If the customers select option 1, they should enter number of gigabytes that they want to use. Then you will give them the answer like:\n",
    "\n",
    "\"*Thank you, if you use 3 GB, you will pay 54 dollars per month.*\""
   ]
  },
  {
   "cell_type": "code",
   "execution_count": null,
   "metadata": {},
   "outputs": [],
   "source": [
    "def option1():          \n",
    "    x = float(input('How many gigabytes do you want to use per month? \\n'))\n",
    "    # Enter your code here\n",
    "   "
   ]
  },
  {
   "cell_type": "markdown",
   "metadata": {},
   "source": [
    "If the customers select option 2, they should enter the amount of money at least $\\$39$ per month. Then you will answer them like:\n",
    "\n",
    "\"*Thank you, if you spend $50.0$ dollars, you can use $2.7333333333333334$ GB per month.*\""
   ]
  },
  {
   "cell_type": "code",
   "execution_count": null,
   "metadata": {},
   "outputs": [],
   "source": [
    "def option2():\n",
    "    C = float(input('How much do you want to spend to purchase the data usage per month? \\n'))\n",
    "    if C < 39: \n",
    "        prt('Sorry, the minimum deposite is 39.')\n",
    "        option2()\n",
    "    elif C >= 39:\n",
    "        x = ... # Enter your code here. You should recall the function solveLin(a,b).\n",
    "        prt('Thank you, if you spend ' + str(C) + ' dollars, you can use ' \\\n",
    "             + str(x) + ' GB per month.')"
   ]
  },
  {
   "cell_type": "markdown",
   "metadata": {},
   "source": [
    "Next, you will ask if the customers want to make another option by writing the function **restart( )**. \n",
    "\n",
    "For instance, \"If you would like to restart the program, please enter 3. \n",
    "Otherwise, please enter #: \"\n",
    "\n",
    "* If they press \"3\", then you will recall the function **service( )**.\n",
    "* If the press \"#\", then you will say \"Thank you for visiting us today, have a nice day!\n",
    "* Otherwise, you will say \"You entered an invalid information. Please do it again.\""
   ]
  },
  {
   "cell_type": "code",
   "execution_count": 5,
   "metadata": {},
   "outputs": [
    {
     "name": "stdout",
     "output_type": "stream",
     "text": [
      "Welcome to our shop! \n",
      "Our cell phone plan costs $39 a month.\n",
      "The plan includes 2 gigabytes (GB) of free data\n",
      "and charges $15 per GB for any additional data used.\n",
      "Please enter your name: Tan\n",
      "Hello Tan. Nice to meet you.\n",
      "If you would like to pay after, please select option 1.\n",
      "If you would like to pay before, please select option 2.\n",
      "Please select your option 1 or 2: \n",
      "1\n",
      "How many gigabytes do you want to use per month? \n",
      "9\n",
      "Thank you, if you use 9.0 GB, you will pay 144.0 dollars per month.\n",
      "If you would like to restart the program, please enter 3. \n",
      "Otherwise, please enter #: \n",
      "3\n",
      "Please enter your name: Kyle \n",
      "Hello Kyle . Nice to meet you.\n",
      "If you would like to pay after, please select option 1.\n",
      "If you would like to pay before, please select option 2.\n",
      "Please select your option 1 or 2: \n",
      "2\n",
      "How much do you want to spend to purchase the data usage per month? \n",
      "50\n",
      "Thank you, if you spend 50.0 dollars, you can use 2.7333333333333334 GB per month.\n",
      "If you would like to restart the program, please enter 3. \n",
      "Otherwise, please enter #: \n",
      "0\n",
      "You entered an invalid information. Please do it again.\n",
      "If you would like to restart the program, please enter 3. \n",
      "Otherwise, please enter #: \n",
      "3\n",
      "Please enter your name: Ky\n",
      "Hello Ky. Nice to meet you.\n",
      "If you would like to pay after, please select option 1.\n",
      "If you would like to pay before, please select option 2.\n",
      "Please select your option 1 or 2: \n",
      "0\n",
      "Sorry, you entered an invalid input. Please do it again.\n",
      "Please select your option 1 or 2: \n",
      "1\n",
      "How many gigabytes do you want to use per month? \n",
      "16\n",
      "Thank you, if you use 16.0 GB, you will pay 249.0 dollars per month.\n",
      "If you would like to restart the program, please enter 3. \n",
      "Otherwise, please enter #: \n",
      "no\n",
      "You entered an invalid information. Please do it again.\n",
      "If you would like to restart the program, please enter 3. \n",
      "Otherwise, please enter #: \n",
      "#\n",
      "Thank you for visiting us today, have a nice day!\n"
     ]
    }
   ],
   "source": [
    "def restart():\n",
    "    response = input('If you would like to restart the program, please enter 3. \\nOtherwise, please enter #: \\n')\n",
    "    # Enter your code here\n",
    "\n",
    "# The final step is calling the two main functions.\n",
    "welcome()\n",
    "service()"
   ]
  }
 ],
 "metadata": {
  "kernelspec": {
   "display_name": "Python 3",
   "language": "python",
   "name": "python3"
  },
  "language_info": {
   "codemirror_mode": {
    "name": "ipython",
    "version": 3
   },
   "file_extension": ".py",
   "mimetype": "text/x-python",
   "name": "python",
   "nbconvert_exporter": "python",
   "pygments_lexer": "ipython3",
   "version": "3.7.6"
  }
 },
 "nbformat": 4,
 "nbformat_minor": 4
}
