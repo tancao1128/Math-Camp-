{
 "cells": [
  {
   "cell_type": "markdown",
   "metadata": {},
   "source": [
    "# Project 2\n",
    "\n",
    "This project is taken from section 3.1 in the textbook [1].\n",
    "\n",
    "Suppose you are asked to design the first ascent and drop for a new \n",
    "roller coaster. \n",
    "By studying photographs of your favorite coasters, you decide to make the slope of the ascent 0.8 and the slope of the drop −1.6. You decide to connect these two straight stretches $y = L_{1}(x)$ and $y = L_{2}(x)$ with part of a parabola y = f(x) = $ax^2+bx+c$, where x and f(x) are measured in feet. For the track to be smooth there can’t be abrupt changes in direction, so you want the linear segments L1 and L2 to be tangent to the parabola at the transition points P and Q. (See the figure.) \n",
    "To simplify the equations, you decide to place the origin at P."
   ]
  },
  {
   "cell_type": "markdown",
   "metadata": {},
   "source": [
    "<table><tr><td><img src='f65.png'></td><td><img src='f66.png'></td></tr></table>"
   ]
  },
  {
   "cell_type": "markdown",
   "metadata": {},
   "source": [
    "# Question 1:"
   ]
  },
  {
   "cell_type": "markdown",
   "metadata": {},
   "source": [
    "* Suppose the horizontal distance between $P$ and $Q$ is $100$ ft. Write  equations in $a, b,$ and $c$ that will ensure that the track is smooth  at the transition points.\n",
    "\n",
    "* Solve the equations in part (a) for $a, b,$ and $c$ to find a formula for $f(x)$.\n",
    "* Plot $L_{1}, f,$ and $L_2$ to verify graphically that the transitions are smooth.\n",
    "* Find the difference in elevation between $P$ and $Q$."
   ]
  },
  {
   "cell_type": "markdown",
   "metadata": {},
   "source": [
    "Implementing the following $dx$ function will return the derivative of the input expression \"expr\"."
   ]
  },
  {
   "cell_type": "code",
   "execution_count": 4,
   "metadata": {},
   "outputs": [],
   "source": [
    "import sympy as sp\n",
    "from math import *\n",
    "from sympy import *\n",
    "def dx(expr):    \n",
    "    ### START CODE HERE ### => find the differentiation of the input expression \"expr\" using sympy library tools.\n",
    "    \n",
    "    ret = ???\n",
    "    \n",
    "    ### END CODE HERE ### \n",
    "    \n",
    "    return ret"
   ]
  },
  {
   "cell_type": "markdown",
   "metadata": {},
   "source": [
    "Explain your work and computation in the following line."
   ]
  },
  {
   "cell_type": "markdown",
   "metadata": {},
   "source": [
    "START YOUR EXPLANATION HERE => Double click to edit.\n",
    "\n",
    "\n",
    "\n",
    "\n",
    "\n",
    "\n",
    "\n",
    "END YOUR EXPLANATION HERE "
   ]
  },
  {
   "cell_type": "markdown",
   "metadata": {},
   "source": [
    " "
   ]
  },
  {
   "cell_type": "markdown",
   "metadata": {},
   "source": [
    " "
   ]
  },
  {
   "cell_type": "markdown",
   "metadata": {},
   "source": [
    "Plot the graph of $f(x), g(x), h(x)$, and the elevations of $P$ and $Q$ in the following line:"
   ]
  },
  {
   "cell_type": "code",
   "execution_count": 5,
   "metadata": {},
   "outputs": [
    {
     "ename": "SyntaxError",
     "evalue": "invalid syntax (<ipython-input-5-c6969124e029>, line 5)",
     "output_type": "error",
     "traceback": [
      "\u001b[0;36m  File \u001b[0;32m\"<ipython-input-5-c6969124e029>\"\u001b[0;36m, line \u001b[0;32m5\u001b[0m\n\u001b[0;31m    f = lambda x: # Enter your code here                        # the parabolla\u001b[0m\n\u001b[0m                                                                               ^\u001b[0m\n\u001b[0;31mSyntaxError\u001b[0m\u001b[0;31m:\u001b[0m invalid syntax\n"
     ]
    }
   ],
   "source": [
    "import numpy as np\n",
    "import matplotlib.pyplot as plt\n",
    "\n",
    "x = np.linspace(-200, 200 , endpoint = True)\n",
    "f = lambda x: # Enter your code here                        # the parabolla\n",
    "g = lambda x: # Enter your code here                        # the tangent line\n",
    "h = lambda x: # Enter your code here                        # the tangent line\n",
    "P_elevation = lambda x: # Enter your code here  \n",
    "Q_elevation = lambda x: # Enter your code here\n",
    "\n",
    "# Enter your code here for the plot\n",
    "\n",
    "    ### START CODE HERE ###\n",
    "\n",
    "    \n",
    "    \n",
    "    \n",
    "    \n",
    "    \n",
    "    \n",
    "    \n",
    "    ### END CODE HERE ### "
   ]
  },
  {
   "cell_type": "markdown",
   "metadata": {},
   "source": [
    " "
   ]
  },
  {
   "cell_type": "markdown",
   "metadata": {},
   "source": [
    " "
   ]
  },
  {
   "cell_type": "markdown",
   "metadata": {},
   "source": [
    "# Question 2:"
   ]
  },
  {
   "cell_type": "markdown",
   "metadata": {},
   "source": [
    "The solution in Problem 1 might *look smooth*, but it might not $feel$ smooth because the piecewise defined function [consisting of $L_{1}$(x) for $x < 0, f(x)$ for $0 \\le x \\le 100,$ and $L_2(x)$ for $x > 100$] doesn’t have a continuous second derivative. So you decide to improve the design by using a quadratic function $q(x) = ax^2+bx+c$ only on the interval $10 ≤ x ≤ 90$ and connecting it to the linear functions by means of two cubic functions:\n",
    "\n",
    "$$\n",
    "\\begin{cases}\n",
    "g(x) = kx^3+lx^2+mx+n,\\;\\; \\mbox{for}\\;\\; 0 \\le x < 1 0 \\\\[1ex]\n",
    "h(x) = px^3+qx^2+rx+s, \\;\\; \\mbox{for}\\;\\; 90 < x ≤ 100\n",
    "\\end{cases}\n",
    "$$\n",
    "\n",
    "* Write a system of equations in 11 unknowns that ensure that the functions and their first two derivatives agree at the transition points.\n",
    "* Solve the equations in part (a) with a computer algebra system to find formulas for $q(x), g(x)$, and $h(x)$.\n",
    "* Plot $L_{1}, g, q, h,$ and $L_{2}$, and compare with the plot in Problem 1(c)."
   ]
  },
  {
   "cell_type": "markdown",
   "metadata": {},
   "source": [
    " "
   ]
  },
  {
   "cell_type": "code",
   "execution_count": null,
   "metadata": {},
   "outputs": [],
   "source": [
    "from pandas import DataFrame\n",
    "\n",
    "x = sp.Symbol('x')\n",
    "\n",
    "'''\n",
    "Hint: Use the 'symbols' method in sympy like this => a, b, c = symbols('a b c') \n",
    "to define symbols to be used in the differentiation. \n",
    "'''\n",
    " \n",
    "??? = symbols('???') \n",
    "\n",
    "'''\n",
    "Hint: Complete the table dictionary to print a table with the following information: \n",
    "\n",
    "i.    Interval : => input the interval with the bracket for your function inside \"$ $\". \n",
    "                 => use 'inf' to denote infinity and make proper use of '[' and '(' brackets. \n",
    "                 \n",
    "ii.   Function : => write your function inside this -> ( )\n",
    "\n",
    "\n",
    "iii.  First Derivative:  => find the first derivative of the respective function by calling dx(expr),\n",
    "                            where, expr = respective expression to differentiate.\n",
    "\n",
    "\n",
    "iv.   Second Derivative: => find the second derivative of the respective function with the help of dx(expr) method.\n",
    "                         => no additional hint for this implementation will be provided.\n",
    "\n",
    "\n",
    "'''\n",
    "\n",
    "table = {'$Interval$': ['$ $', '$ $', '$ $', '$ $', '$ $'], \n",
    "         '$Function$': ['$L_{1}(x) = ( ) $', '$g(x) = ( )$', '$q(x) = ( )$', '$h(x) = ( )$', '$L_2(x) = ( )$'],\n",
    "         '$First Derivative$': [ dx(expr),   ,   ,   ,   ],\n",
    "         '$Second Derivative$': [ , , , , ]}\n",
    "\n",
    "DataFrame(table)"
   ]
  },
  {
   "cell_type": "markdown",
   "metadata": {},
   "source": [
    " "
   ]
  },
  {
   "cell_type": "markdown",
   "metadata": {},
   "source": [
    "Make a table with the conditions to fulfill for smoothness in the roller coaster track using the given functions in the given interval and list down the resulting equations over the interval in the following line."
   ]
  },
  {
   "cell_type": "code",
   "execution_count": 10,
   "metadata": {},
   "outputs": [],
   "source": [
    "\n",
    "### START CODE HERE ###\n",
    "\n",
    "\n",
    "\n",
    "\n",
    "\n",
    "\n",
    "\n",
    "\n",
    "\n",
    "\n",
    "\n",
    "\n",
    "### END CODE HERE ### "
   ]
  },
  {
   "cell_type": "markdown",
   "metadata": {},
   "source": [
    "Formulate the result in terms of matrix and solve the linear system using numpy :)\n",
    "* You can make the table to be used for solving linear system in the following line."
   ]
  },
  {
   "cell_type": "code",
   "execution_count": 11,
   "metadata": {},
   "outputs": [],
   "source": [
    "### START CODE HERE ###\n",
    "\n",
    "\n",
    "\n",
    "\n",
    "\n",
    "\n",
    "\n",
    "\n",
    "\n",
    "\n",
    "\n",
    "\n",
    "### END CODE HERE ### "
   ]
  },
  {
   "cell_type": "markdown",
   "metadata": {},
   "source": [
    " "
   ]
  },
  {
   "cell_type": "markdown",
   "metadata": {},
   "source": [
    "Finally, represent the result in terms of $Ax = b$ and print result for $A, b$ and use it to find $x$ in the following line:"
   ]
  },
  {
   "cell_type": "code",
   "execution_count": 2,
   "metadata": {},
   "outputs": [
    {
     "ename": "SyntaxError",
     "evalue": "invalid syntax (<ipython-input-2-ad2cea71bbb5>, line 11)",
     "output_type": "error",
     "traceback": [
      "\u001b[0;36m  File \u001b[0;32m\"<ipython-input-2-ad2cea71bbb5>\"\u001b[0;36m, line \u001b[0;32m11\u001b[0m\n\u001b[0;31m    A = np.array([...\"complete this matrix from your table above\"...])\u001b[0m\n\u001b[0m                                                                ^\u001b[0m\n\u001b[0;31mSyntaxError\u001b[0m\u001b[0;31m:\u001b[0m invalid syntax\n"
     ]
    }
   ],
   "source": [
    "import sympy \n",
    "from sympy import *\n",
    "### START CODE HERE ###\n",
    "\n",
    "# Use linear algebra solving method or RREF method to find the solution to the linear system.\n",
    "\n",
    "\n",
    "\n",
    "#Implement the linear algebra solving method below:\n",
    "\n",
    "A = np.array([...\"complete this matrix from your table above\"...])\n",
    "\n",
    "b = np.array([...\"complete this matrix from your table above\"...])\n",
    "\n",
    "solutionA = ???\n",
    "\n",
    "\n",
    "# implement RREF method below:\n",
    "\n",
    "A = Matrix([ ...\"complete this matrix from your table above\"...]) \n",
    "\n",
    "solutionB = ???\n",
    "\n",
    "\n",
    "### END CODE HERE ### "
   ]
  },
  {
   "cell_type": "markdown",
   "metadata": {},
   "source": [
    "The following examples may be useful to you."
   ]
  },
  {
   "cell_type": "code",
   "execution_count": 3,
   "metadata": {},
   "outputs": [
    {
     "name": "stdout",
     "output_type": "stream",
     "text": [
      "Matrix : Matrix([[1, 1, 2, 8], [-1, -2, 3, 1], [3, -7, 4, 10]]) \n",
      "The Row echelon form of matrix M and the pivot columns : (Matrix([\n",
      "[1, 0, 0, 3],\n",
      "[0, 1, 0, 1],\n",
      "[0, 0, 1, 2]]), (0, 1, 2))\n"
     ]
    }
   ],
   "source": [
    "import sympy \n",
    "from sympy import *\n",
    "\n",
    "M = Matrix([ [1, 1, 2, 8], [-1, -2, 3, 1], [3, -7, 4, 10] ]) \n",
    "print(\"Matrix : {} \".format(M)) \n",
    "\n",
    "# Use sympy.rref() method \n",
    "M_rref = M.rref() \n",
    "\t\n",
    "print(\"The Row echelon form of matrix M and the pivot columns : {}\".format(M_rref)) "
   ]
  },
  {
   "cell_type": "code",
   "execution_count": 7,
   "metadata": {},
   "outputs": [
    {
     "data": {
      "text/plain": [
       "array([3., 1., 2.])"
      ]
     },
     "execution_count": 7,
     "metadata": {},
     "output_type": "execute_result"
    }
   ],
   "source": [
    "import numpy as np\n",
    "\n",
    "M = np.array([[1, 1, 2], [-1, -2, 3], [3, -7, 4] ] )\n",
    "b = np.array([8, 1, 10])\n",
    "x = np.linalg.solve(M,b)\n",
    "x"
   ]
  },
  {
   "cell_type": "code",
   "execution_count": null,
   "metadata": {},
   "outputs": [],
   "source": []
  }
 ],
 "metadata": {
  "kernelspec": {
   "display_name": "Python 3",
   "language": "python",
   "name": "python3"
  },
  "language_info": {
   "codemirror_mode": {
    "name": "ipython",
    "version": 3
   },
   "file_extension": ".py",
   "mimetype": "text/x-python",
   "name": "python",
   "nbconvert_exporter": "python",
   "pygments_lexer": "ipython3",
   "version": "3.7.6"
  }
 },
 "nbformat": 4,
 "nbformat_minor": 4
}
