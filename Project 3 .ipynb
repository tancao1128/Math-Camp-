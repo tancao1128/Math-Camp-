{
 "cells": [
  {
   "cell_type": "markdown",
   "metadata": {},
   "source": [
    "# Project 3\n",
    "\n",
    "This project is taken from section 3.10 in the textbook [1].\n",
    "\n",
    "\n",
    "The tangent line approximation $L(x)$ is the best first-degree (linear) approximation to $f(x)$ near $x =a$ because $f(x)$ and $L(x)$ have the same rate of change (derivative) at $a$. For a better approximation than a linear one, let's try a second-degree (quadratic) approximation $P(x)$. In other words, we approximate a curve by a parabola instead of by a straight line. To make sure that the approximation is a good one, we stipulate the following:\n"
   ]
  },
  {
   "cell_type": "markdown",
   "metadata": {},
   "source": [
    "* $P(a) = f(a)$ ($P$ and $f$ should have the same value at $a$.)\n",
    "* $P'(a) = f'(a)$ ($P$ and $f$ should have the same rate of change at $a$.)\n",
    "* $P''(a) = f''(a)$ (The slope of $P$ and $f$ should change at the same rate at $a$.)"
   ]
  },
  {
   "cell_type": "markdown",
   "metadata": {},
   "source": [
    " "
   ]
  },
  {
   "cell_type": "markdown",
   "metadata": {},
   "source": [
    "Problem A: We will be using the \"fprime\" function below to find the derivative of a function and its value with respect to 'x' at 'k'. Complete the code below."
   ]
  },
  {
   "cell_type": "code",
   "execution_count": 17,
   "metadata": {},
   "outputs": [],
   "source": [
    "from sympy import *\n",
    "x, a, A, B, C = symbols('x a A B C')\n",
    "def fprime(expr,k): \n",
    "    ret = ?\n",
    "    return ?"
   ]
  },
  {
   "cell_type": "markdown",
   "metadata": {},
   "source": [
    "Problem B: We will be using the \"funcsubstitution\" function below to find the value of any expression'expr' at some point 'k'.Complete the code below."
   ]
  },
  {
   "cell_type": "code",
   "execution_count": 18,
   "metadata": {},
   "outputs": [],
   "source": [
    "from sympy import *\n",
    "x, a, A, B, C = symbols('x a A B C')\n",
    "def funcsubstitution(expr,k):\n",
    "    return ?"
   ]
  },
  {
   "cell_type": "markdown",
   "metadata": {},
   "source": [
    "(Optional): You can also write your own function to find nth derivative and a function to give nth degree taylor approximation and use in your answers later."
   ]
  },
  {
   "cell_type": "code",
   "execution_count": null,
   "metadata": {},
   "outputs": [],
   "source": [
    "#(Optional): write function to find nth derivative."
   ]
  },
  {
   "cell_type": "code",
   "execution_count": null,
   "metadata": {},
   "outputs": [],
   "source": [
    "#(Optional): write function to find nth degree taylor approximation."
   ]
  },
  {
   "cell_type": "markdown",
   "metadata": {},
   "source": [
    " "
   ]
  },
  {
   "cell_type": "markdown",
   "metadata": {},
   "source": [
    " # 1."
   ]
  },
  {
   "cell_type": "markdown",
   "metadata": {},
   "source": [
    "Find the quadratic approximation $P(x)=A + Bx + Cx^2$ to the function $f(x) = \\cos x$ that satisfies condition (i), (ii), and (iii) with $a=0$. Graph $P, f,$ and the linear approximation $L(x)=1$ on a common screen. Comment on how well the functions $P$ and $L$ approximate $f$. "
   ]
  },
  {
   "cell_type": "markdown",
   "metadata": {},
   "source": [
    "Here, we try to find a polynomial that has the same value as the function $f(x)$, the same derivative and also the same second derivative at some point \"a\". \n",
    "\n",
    "\n",
    "Similar to linear approximation our quadratic approximation for $f(x)$ near the point $x = a$ looks like this:"
   ]
  },
  {
   "cell_type": "markdown",
   "metadata": {},
   "source": [
    "$$\n",
    "P(x) = A +Bx + Cx^2\n",
    "$$"
   ]
  },
  {
   "cell_type": "markdown",
   "metadata": {},
   "source": [
    "In order to recover the exact quadratic approximation we can use the nessary consitions and easily find the approximation."
   ]
  },
  {
   "cell_type": "markdown",
   "metadata": {},
   "source": [
    " #### Answer:"
   ]
  },
  {
   "cell_type": "markdown",
   "metadata": {},
   "source": [
    " "
   ]
  },
  {
   "cell_type": "markdown",
   "metadata": {},
   "source": [
    "Use funcsubstitution and fprime function that you implemented above to get the result."
   ]
  },
  {
   "cell_type": "code",
   "execution_count": null,
   "metadata": {},
   "outputs": [],
   "source": []
  },
  {
   "cell_type": "code",
   "execution_count": null,
   "metadata": {},
   "outputs": [],
   "source": []
  },
  {
   "cell_type": "code",
   "execution_count": null,
   "metadata": {},
   "outputs": [],
   "source": []
  },
  {
   "cell_type": "code",
   "execution_count": null,
   "metadata": {},
   "outputs": [],
   "source": []
  },
  {
   "cell_type": "code",
   "execution_count": null,
   "metadata": {},
   "outputs": [],
   "source": []
  },
  {
   "cell_type": "markdown",
   "metadata": {},
   "source": [
    "# 2. "
   ]
  },
  {
   "cell_type": "markdown",
   "metadata": {},
   "source": [
    "Determine the values of $x$ for which the quadratic approximation $f(x) \\approx P(x)$ in Problem 1 is accurate to within $0.1$ [ Hint: Graph $y=P(x),\\; y=\\cos x-0.1,$ and $y=\\cos x+0.1$ on a common screen.]"
   ]
  },
  {
   "cell_type": "markdown",
   "metadata": {},
   "source": [
    " #### Answer:"
   ]
  },
  {
   "cell_type": "markdown",
   "metadata": {},
   "source": [
    "Problem C: Complete the part where it shows '?' symbol."
   ]
  },
  {
   "cell_type": "code",
   "execution_count": null,
   "metadata": {},
   "outputs": [],
   "source": [
    "import numpy as np\n",
    "import matplotlib.pyplot as plt\n",
    "\n",
    "x = np.linspace(-2, 2, endpoint = True)\n",
    "P = lambda x: ?         # the approximation\n",
    "y1 = lambda x: ?           # lower bound of the original function\n",
    "y2 = lambda x: ?           # upper bound of the original function\n",
    "\n",
    "\n",
    "#Problem D: Complete the plot for all required approximations.\n",
    "plt.plot(x, P(x), label = \"$P(x) = ? $\")\n",
    "\n",
    "\n",
    "\n",
    "\n",
    "plt.xlabel('x')\n",
    "plt.ylabel('y')\n",
    "plt.legend()\n",
    "plt.show()"
   ]
  },
  {
   "cell_type": "code",
   "execution_count": null,
   "metadata": {},
   "outputs": [],
   "source": [
    "from scipy.optimize import fsolve\n",
    "import numpy as np\n",
    "f = lambda x: ? #write the equation of the two functions combined together \n",
    "\n",
    "#(hint: google the 'fsolve' method and check example)\n",
    "\n",
    "print(fsolve(f, [?, ?]))# write the range of x-values where solution lies."
   ]
  },
  {
   "cell_type": "markdown",
   "metadata": {},
   "source": [
    "### Write your conclusion here.\n",
    "\n",
    "\n",
    "\n",
    "\n"
   ]
  },
  {
   "cell_type": "markdown",
   "metadata": {},
   "source": [
    " "
   ]
  },
  {
   "cell_type": "markdown",
   "metadata": {},
   "source": [
    " # 3. "
   ]
  },
  {
   "cell_type": "markdown",
   "metadata": {},
   "source": [
    "To approximate a function $f$ by a quadratic function $P$ near a number $a$, it is best to write $P$ in the form\n",
    "$$\n",
    "P(x) = A + B(x-a)+C(x-a)^2\n",
    "$$ \n",
    "Show that the quadratic function that satisfies condition (i), (ii), and (iii) is \n",
    "$$\n",
    "P(x) = f(a) +f'(a)(x-a) + \\frac{1}{2}f''(a)(x-a)^2\n",
    "$$\n"
   ]
  },
  {
   "cell_type": "markdown",
   "metadata": {},
   "source": [
    " #### Answer:"
   ]
  },
  {
   "cell_type": "markdown",
   "metadata": {},
   "source": [
    "In order to show that the quadratic function that satisfies condition (i), (ii), and (iii), we need to verify that A = f(a), B = f'(a), and C = $\\frac{1}{2}f''(a)$.\n",
    "\n",
    "where, f(x) = cos(x)"
   ]
  },
  {
   "cell_type": "markdown",
   "metadata": {},
   "source": [
    "Let's check the second condition:\n",
    "$$\n",
    "f(a) = P(a) \n",
    "$$"
   ]
  },
  {
   "cell_type": "markdown",
   "metadata": {},
   "source": [
    "Use funcsubstitution and fprime function that you implemented above to get the result."
   ]
  },
  {
   "cell_type": "code",
   "execution_count": null,
   "metadata": {},
   "outputs": [],
   "source": []
  },
  {
   "cell_type": "code",
   "execution_count": null,
   "metadata": {},
   "outputs": [],
   "source": []
  },
  {
   "cell_type": "markdown",
   "metadata": {},
   "source": [
    "Now, let's check the second condition:\n",
    "$$\n",
    "f'(a) = P'(a) \n",
    "$$"
   ]
  },
  {
   "cell_type": "markdown",
   "metadata": {},
   "source": [
    "Use funcsubstitution and fprime function that you implemented above to get the result."
   ]
  },
  {
   "cell_type": "code",
   "execution_count": null,
   "metadata": {},
   "outputs": [],
   "source": []
  },
  {
   "cell_type": "code",
   "execution_count": null,
   "metadata": {},
   "outputs": [],
   "source": []
  },
  {
   "cell_type": "markdown",
   "metadata": {},
   "source": [
    "and, let's check the third condition:\n",
    "$$\n",
    "f''(a) = P''(a) \n",
    "$$"
   ]
  },
  {
   "cell_type": "markdown",
   "metadata": {},
   "source": [
    "Use funcsubstitution and fprime function that you implemented above to get the result."
   ]
  },
  {
   "cell_type": "code",
   "execution_count": null,
   "metadata": {},
   "outputs": [],
   "source": []
  },
  {
   "cell_type": "code",
   "execution_count": null,
   "metadata": {},
   "outputs": [],
   "source": []
  },
  {
   "cell_type": "markdown",
   "metadata": {},
   "source": [
    "So, from 3 necessary conditions we we get the following values for A, B, and C:    \n",
    "$$\n",
    "A= ?\n",
    "$$\n",
    "$$\n",
    "B = ?\n",
    "$$\n",
    "$$\n",
    "C = ?       \n",
    "$$\n",
    "These values lead the approximate function to be:\n",
    "$$\n",
    "P(x) = A + B(x-a)+C(x-a)^2 \n",
    "= ?\n",
    "$$ \n"
   ]
  },
  {
   "cell_type": "markdown",
   "metadata": {},
   "source": [
    "And now calculating f(a), f'(a), and f''(a) as follows:"
   ]
  },
  {
   "cell_type": "markdown",
   "metadata": {},
   "source": [
    " "
   ]
  },
  {
   "cell_type": "markdown",
   "metadata": {},
   "source": [
    "Use funcsubstitution and fprime function that you implemented above to get the result."
   ]
  },
  {
   "cell_type": "code",
   "execution_count": null,
   "metadata": {},
   "outputs": [],
   "source": []
  },
  {
   "cell_type": "code",
   "execution_count": null,
   "metadata": {},
   "outputs": [],
   "source": []
  },
  {
   "cell_type": "code",
   "execution_count": null,
   "metadata": {},
   "outputs": [],
   "source": []
  },
  {
   "cell_type": "markdown",
   "metadata": {},
   "source": [
    "Therefore, these values also lead our approximate function to be:\n",
    "$$\n",
    "P(x) = ???\n",
    "$$  "
   ]
  },
  {
   "cell_type": "markdown",
   "metadata": {},
   "source": [
    "Hence, the quadratic function that satisfies condition (i), (ii), and (iii) is\n",
    "$$\n",
    "P(x) = f(a) +f'(a)(x-a) + \\frac{1}{2}f''(a)(x-a)^2 \n",
    "$$ \n"
   ]
  },
  {
   "cell_type": "markdown",
   "metadata": {},
   "source": [
    " "
   ]
  },
  {
   "cell_type": "markdown",
   "metadata": {},
   "source": [
    " "
   ]
  },
  {
   "cell_type": "markdown",
   "metadata": {},
   "source": [
    "# 4. "
   ]
  },
  {
   "cell_type": "markdown",
   "metadata": {},
   "source": [
    "Find the quadratic approximation to $f(x) = \\sqrt{x+3}$ near $a=1$. Graph $f$, the quadratic approximation, and the linear approximation on a common screen. What do you conclude? "
   ]
  },
  {
   "cell_type": "markdown",
   "metadata": {},
   "source": [
    "#### Answer:"
   ]
  },
  {
   "cell_type": "markdown",
   "metadata": {},
   "source": [
    "To approximate a function $f(x)$ by a quadratic function $P$ near a number $a = 1$, let $P$ be in the form:\n",
    "$$\n",
    "P(x) = f(a) +f'(a)(x-a) + \\frac{1}{2}f''(a)(x-a)^2\n",
    "= f(1) +f'(1)(x-1) + \\frac{1}{2}f''(a)(x-1)^2\n",
    "$$ "
   ]
  },
  {
   "cell_type": "markdown",
   "metadata": {},
   "source": [
    "Now, let's find the values to get exact quadratic approximation."
   ]
  },
  {
   "cell_type": "markdown",
   "metadata": {},
   "source": [
    "Use funcsubstitution and fprime function that you implemented above to get the result."
   ]
  },
  {
   "cell_type": "code",
   "execution_count": null,
   "metadata": {},
   "outputs": [],
   "source": []
  },
  {
   "cell_type": "code",
   "execution_count": null,
   "metadata": {},
   "outputs": [],
   "source": []
  },
  {
   "cell_type": "code",
   "execution_count": null,
   "metadata": {},
   "outputs": [],
   "source": []
  },
  {
   "cell_type": "markdown",
   "metadata": {},
   "source": [
    "Finally,\n",
    "\n",
    "$$\n",
    "P(x) = f(1) +f'(1)(x-1) + \\frac{1}{2}f''(a)(x-1)^2\n",
    "= ???\n",
    "$$ "
   ]
  },
  {
   "cell_type": "markdown",
   "metadata": {},
   "source": [
    " "
   ]
  },
  {
   "cell_type": "code",
   "execution_count": null,
   "metadata": {},
   "outputs": [],
   "source": [
    "import numpy as np\n",
    "import matplotlib.pyplot as plt\n",
    "\n",
    "x = np.linspace(-1, 4, endpoint = True)\n",
    "Pd = lambda x: ?         \n",
    "f = lambda x: ?\n",
    "P = lambda x: ?\n",
    "\n",
    "\n",
    "plt.plot(x, Pd(x), label = \"$Pd \")\n",
    "plt.plot(x, f(x), label = \"$f \")\n",
    "plt.plot(x, P(x), label = \"$P \")\n",
    "\n",
    "\n",
    "\n",
    "plt.xlabel('x')\n",
    "plt.ylabel('y')\n",
    "plt.legend()\n",
    "plt.show()"
   ]
  },
  {
   "cell_type": "markdown",
   "metadata": {},
   "source": [
    "#### Conclusion: \n",
    "Complete this part\n",
    "\n",
    "????"
   ]
  },
  {
   "cell_type": "markdown",
   "metadata": {},
   "source": [
    " "
   ]
  },
  {
   "cell_type": "markdown",
   "metadata": {},
   "source": [
    "# 5. "
   ]
  },
  {
   "cell_type": "markdown",
   "metadata": {},
   "source": [
    "Instead of being satisfied with a linear or quadratic approximation to $f(x)$ near $x=a$, let's try to find better approximations with higher-degree polynomials. We look for an $n$th-degree polynomial \n",
    "$$\n",
    "T_n(x) = c_0 + c_1(x-a) + c_2(x-a)^2+c_3(x-a)^3 +\\ldots +c_n(x-a)^n\n",
    "$$\n",
    "such that $T_n$ and its first $n$ derivatives have the same values at $x=a$ as $f$ and its first $n$ derivatives. By differentiating repeatedly and setting $x=a$, show that these conditions are satisfied if \n",
    "$$\n",
    "c_0 = f(a),\\;\\; c_1 = f'(a), \\;\\; c_2 =\\frac{1}{2}f''(a) \n",
    "$$\n",
    "and in general $c_k = \\dfrac{f^{(k)}(a)}{k!}$, where $k! = 1\\cdot2\\cdot3\\ldots k$. The resulting polynomial \n",
    "$$\n",
    "T_n(x) = f(a) + f'(a)(x-a)+\\dfrac{f''(a)}{2!}(x-a)^2+\\ldots +\\dfrac{f^{(n)}(a)}{n!}(x-a)^n\n",
    "$$\n",
    "is called the $n$th-degree Taylor polynomial of $f$ centered at $a$.}"
   ]
  },
  {
   "cell_type": "markdown",
   "metadata": {},
   "source": [
    "#### Answer:"
   ]
  },
  {
   "cell_type": "markdown",
   "metadata": {},
   "source": [
    "You can prove the above statement in your notebook or by filling out the marked down space below this."
   ]
  },
  {
   "cell_type": "markdown",
   "metadata": {},
   "source": [
    "Write your answer here:\n",
    "    \n",
    "    "
   ]
  },
  {
   "cell_type": "markdown",
   "metadata": {},
   "source": [
    "# 6. "
   ]
  },
  {
   "cell_type": "markdown",
   "metadata": {},
   "source": [
    "Find the 8th-degree Taylor polynomial centered at $a=0$ for the function $f(x) = \\cos x$. Graph $f$ together with the Taylor polynomials $T_2, T_4, T_6, T_8$ and comment how well they approximate $f$. "
   ]
  },
  {
   "cell_type": "markdown",
   "metadata": {},
   "source": [
    "#### Answer:"
   ]
  },
  {
   "cell_type": "markdown",
   "metadata": {},
   "source": [
    "Using the function nthTaylorApprox to approximate the 8th-degree Taylor polynomial centered at $a=0$ for the function $f(x) = \\cos x$."
   ]
  },
  {
   "cell_type": "markdown",
   "metadata": {},
   "source": [
    "Use funcsubstitution and fprime function that you implemented above to get the result."
   ]
  },
  {
   "cell_type": "code",
   "execution_count": null,
   "metadata": {},
   "outputs": [],
   "source": []
  },
  {
   "cell_type": "code",
   "execution_count": null,
   "metadata": {},
   "outputs": [],
   "source": []
  },
  {
   "cell_type": "code",
   "execution_count": null,
   "metadata": {},
   "outputs": [],
   "source": []
  },
  {
   "cell_type": "code",
   "execution_count": null,
   "metadata": {},
   "outputs": [],
   "source": []
  },
  {
   "cell_type": "code",
   "execution_count": null,
   "metadata": {},
   "outputs": [],
   "source": [
    "import numpy as np\n",
    "import matplotlib.pyplot as plt\n",
    "\n",
    "x = np.linspace(?, ?, endpoint = True)\n",
    "T_8 = lambda x: ?         \n",
    "T_6 = lambda x: ?         \n",
    "T_4 = lambda x: ?          \n",
    "T_2 = lambda x: ?\n",
    "f = lambda x: ?\n",
    "\n",
    "\n",
    "#Plot the above equations using the similar function shown below:\n",
    "\n",
    "plt.plot(x, f(x), label = \"$f(x) = cos(x)$\")\n",
    "?\n",
    "?\n",
    "?\n",
    "?\n",
    "\n",
    "\n",
    "\n",
    "\n",
    "plt.xlabel('x')\n",
    "plt.ylabel('y')\n",
    "plt.legend()\n",
    "plt.show()"
   ]
  },
  {
   "cell_type": "markdown",
   "metadata": {},
   "source": [
    "Comment:"
   ]
  }
 ],
 "metadata": {
  "kernelspec": {
   "display_name": "Python 3",
   "language": "python",
   "name": "python3"
  },
  "language_info": {
   "codemirror_mode": {
    "name": "ipython",
    "version": 3
   },
   "file_extension": ".py",
   "mimetype": "text/x-python",
   "name": "python",
   "nbconvert_exporter": "python",
   "pygments_lexer": "ipython3",
   "version": "3.7.6"
  }
 },
 "nbformat": 4,
 "nbformat_minor": 4
}
