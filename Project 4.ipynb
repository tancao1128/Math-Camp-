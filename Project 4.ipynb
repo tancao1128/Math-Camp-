{
 "cells": [
  {
   "cell_type": "markdown",
   "metadata": {},
   "source": [
    "# Project 4\n",
    "\n",
    "[//]: # \"Image References\"\n",
    "[image1]: https://media.cheggcdn.com/study/b9b/b9b8c240-743f-4102-8746-a5ccda78cc92/12816-3.5-32EEI1.png \"fig\"\n",
    "In this project, you will learn to construct cubic splines that represent the upper portion of the dog (see the figure below). \n",
    "\n",
    "![fig][image1] \n",
    "\n",
    "Use the provided code to construct three clamped cubic splines.\n",
    "* Part 1: Enter the data of three curves.\n",
    "* Part 2: Generate the clamped cubic splines for three curves.\n",
    "* Part 3: Make a set of data points of each curve. \n",
    "* Part 4: Combine all data points of three curves and sketch them. If your code runs successfully, you will get a nice graph below. "
   ]
  },
  {
   "cell_type": "code",
   "execution_count": 14,
   "metadata": {},
   "outputs": [],
   "source": [
    "import Cubic_spline as csf"
   ]
  },
  {
   "cell_type": "markdown",
   "metadata": {},
   "source": [
    "Part 1: Enter the data."
   ]
  },
  {
   "cell_type": "code",
   "execution_count": 15,
   "metadata": {},
   "outputs": [],
   "source": [
    "import numpy as np\n",
    "\n",
    "data1 = np.array([[1, 3, 1],\n",
    "                 [2, 3.7, 0],\n",
    "                 [5, 3.9, 0],\n",
    "                 [6, 4.2, 0],\n",
    "                 [7, 5.7, 0],\n",
    "                 [8, 6.6, 0],\n",
    "                 [10, 7.1, 0],\n",
    "                 [13, 6.7, 0],\n",
    "                 [17, 4.5, -0.67]])\n",
    "data2 = np.array([[17, 4.5, 3],\n",
    "                  [20, 7, 0],\n",
    "                  [23, 6.1, 0],\n",
    "                  [24, 5.6, 0],\n",
    "                  [25, 5.8, 0],\n",
    "                  [27, 5.2, 0],\n",
    "                  [27.7, 4.1, -4]])\n",
    "data3 = np.array([[27.7, 4.1, 0.33],\n",
    "                  [28, 4.3, 0],\n",
    "                  [29, 4.1, 0],\n",
    "                  [30, 3, -1.5]])"
   ]
  },
  {
   "cell_type": "markdown",
   "metadata": {},
   "source": [
    "Part 2: Generate the clamped cubic splines for three curves. "
   ]
  },
  {
   "cell_type": "code",
   "execution_count": 22,
   "metadata": {},
   "outputs": [],
   "source": [
    "def clamped_cubic_spline_f(x,data):\n",
    "    n = len(data)\n",
    "    s = 0\n",
    "    a, b, c, d = csf.clamped_cubic_spline(data)\n",
    "    for i in range(n-1):\n",
    "        if (data[i,0] <= x) and ( x <= data[i+1,0]):\n",
    "            s = a[i] + b[i]*(x-data[i,0]) + c[i]*(x-data[i,0])**2 + d[i]*(x-data[i,0])**3\n",
    "        else: continue\n",
    "    return s\n",
    "\n",
    "\n",
    "curve1 = lambda x:  clamped_cubic_spline_f(x,data1)\n",
    "\n",
    "# Enter your code here\n",
    "curve2 = ...\n",
    "curve3 = ...\n"
   ]
  },
  {
   "cell_type": "markdown",
   "metadata": {},
   "source": [
    "Part 3: Make a set of data points of each curve."
   ]
  },
  {
   "cell_type": "code",
   "execution_count": 17,
   "metadata": {},
   "outputs": [],
   "source": [
    "x1 = np.arange(1, 17, 0.1)\n",
    "y1 = []\n",
    "for s in x1:\n",
    "    y1.append(curve1(s))\n",
    "\n",
    "x2 = np.arange(17, 27.7, 0.1)\n",
    "# Enter your code here\n",
    "...\n",
    "\n",
    "x3 = np.arange(27.7, 29.9, 0.1)\n",
    "# Enter your code here\n",
    "...\n"
   ]
  },
  {
   "cell_type": "markdown",
   "metadata": {},
   "source": [
    "Part 4: Combine all data points of three curves and sketch them. If your code runs successfully, you will get a nice graph below. "
   ]
  },
  {
   "cell_type": "code",
   "execution_count": 21,
   "metadata": {},
   "outputs": [
    {
     "data": {
      "image/png": "[encoded data removed]",
      "text/plain": [
       "<Figure size 1440x360 with 1 Axes>"
      ]
     },
     "metadata": {
      "needs_background": "light"
     },
     "output_type": "display_data"
    }
   ],
   "source": [
    "import matplotlib.pyplot as plt\n",
    "\n",
    "x = np.concatenate((x1, x2, x3), axis = 0)\n",
    "y = np.concatenate((y1, y2, y3), axis = 0)\n",
    "\n",
    "\n",
    "plt.plot(x, y ,'b')\n",
    "plt.rcParams[\"figure.figsize\"]=20,5 \n",
    "plt.xlabel('x')\n",
    "plt.ylabel('y')\n",
    "plt.grid(True)\n",
    "plt.autoscale(enable=True, axis='x', tight=True)#plt.axis('tight')\n",
    "plt.show()"
   ]
  },
  {
   "cell_type": "code",
   "execution_count": null,
   "metadata": {},
   "outputs": [],
   "source": []
  }
 ],
 "metadata": {
  "kernelspec": {
   "display_name": "Python 3",
   "language": "python",
   "name": "python3"
  },
  "language_info": {
   "codemirror_mode": {
    "name": "ipython",
    "version": 3
   },
   "file_extension": ".py",
   "mimetype": "text/x-python",
   "name": "python",
   "nbconvert_exporter": "python",
   "pygments_lexer": "ipython3",
   "version": "3.7.6"
  }
 },
 "nbformat": 4,
 "nbformat_minor": 2
}
